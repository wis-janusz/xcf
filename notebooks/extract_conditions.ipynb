{
 "cells": [
  {
   "cell_type": "code",
   "execution_count": 1,
   "id": "d9176149-a4b3-4498-9bb5-da10a3e10ee1",
   "metadata": {},
   "outputs": [],
   "source": [
    "import numpy as np\n",
    "import pandas as pd\n",
    "#import spacy\n",
    "#from spacy import displacy\n"
   ]
  },
  {
   "cell_type": "code",
   "execution_count": 2,
   "id": "b4915df6",
   "metadata": {},
   "outputs": [],
   "source": [
    "def remove_symbols(s):\n",
    "    s_out = ''\n",
    "    for char in s:\n",
    "        if char.isalnum() or char == ' ':\n",
    "           s_out += char\n",
    "    return s_out"
   ]
  },
  {
   "cell_type": "code",
   "execution_count": 3,
   "id": "073c5ccb-9401-4db7-8d12-df4dde83c6ea",
   "metadata": {},
   "outputs": [],
   "source": [
    "data_proc = pd.read_csv('data_temp1.csv').drop('Unnamed: 0', axis=1)"
   ]
  },
  {
   "cell_type": "code",
   "execution_count": 18,
   "id": "0ed36610",
   "metadata": {},
   "outputs": [],
   "source": [
    "data_proc['conditions'] = data_proc['conditions'].apply(lambda s: s.casefold())\n",
    "data_proc['conditions_alnum'] = data_proc['conditions'].apply(lambda s: remove_symbols(s))\n",
    "data_proc['conditions_alnum'] = data_proc['conditions_alnum'].apply(lambda s: s.split(\" \"))\n",
    "\n"
   ]
  },
  {
   "cell_type": "code",
   "execution_count": 15,
   "id": "44f6e8f5-b016-47d4-ae08-507c76d7ca5a",
   "metadata": {},
   "outputs": [],
   "source": [
    "conditions_vocab = data_proc['conditions_alnum'].to_list()\n",
    "conditions_vocab = [word for sublist in conditions_vocab for word in sublist if len(word) > 1]\n",
    "conditions_vocab = list(set(conditions_vocab))\n"
   ]
  }
 ],
 "metadata": {
  "interpreter": {
   "hash": "4cf626fc45dea3f25557bd8b6791763f86db310429c35efaa0fb13565917c749"
  },
  "kernelspec": {
   "display_name": "Python 3.8.10 ('xcf_env': venv)",
   "language": "python",
   "name": "python3"
  },
  "language_info": {
   "codemirror_mode": {
    "name": "ipython",
    "version": 3
   },
   "file_extension": ".py",
   "mimetype": "text/x-python",
   "name": "python",
   "nbconvert_exporter": "python",
   "pygments_lexer": "ipython3",
   "version": "3.8.10"
  }
 },
 "nbformat": 4,
 "nbformat_minor": 5
}
