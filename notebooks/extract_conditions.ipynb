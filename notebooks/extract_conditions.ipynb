{
 "cells": [
  {
   "cell_type": "code",
   "execution_count": 48,
   "id": "d9176149-a4b3-4498-9bb5-da10a3e10ee1",
   "metadata": {},
   "outputs": [],
   "source": [
    "import pandas as pd\n",
    "import csv\n",
    "from chemdataextractor.doc import Document"
   ]
  },
  {
   "cell_type": "code",
   "execution_count": 2,
   "id": "b4915df6",
   "metadata": {},
   "outputs": [],
   "source": [
    "def remove_symbols(s):\n",
    "    s_out = ''\n",
    "    for char in s:\n",
    "        if char.isalnum() or char == ' ':\n",
    "           s_out += char\n",
    "    return s_out"
   ]
  },
  {
   "cell_type": "code",
   "execution_count": 3,
   "id": "073c5ccb-9401-4db7-8d12-df4dde83c6ea",
   "metadata": {},
   "outputs": [],
   "source": [
    "data_proc = pd.read_csv('data_temp1.csv').set_index('rcsb_id')\n",
    "data_proc['conditions'] = data_proc['conditions'].astype('str')"
   ]
  },
  {
   "cell_type": "code",
   "execution_count": 38,
   "id": "0ed36610",
   "metadata": {},
   "outputs": [
    {
     "data": {
      "text/plain": [
       "89910"
      ]
     },
     "execution_count": 38,
     "metadata": {},
     "output_type": "execute_result"
    }
   ],
   "source": [
    "data_proc['conditions_alnum'] = data_proc['conditions'].apply(lambda s: remove_symbols(s))\n",
    "data_proc['conditions_alnum'] = data_proc['conditions_alnum'].apply(lambda s: s.split(\" \"))\n",
    "\n",
    "corpus = []\n",
    "for i, text in data_proc['conditions'].iteritems():\n",
    "    doc = Document(text)\n",
    "    cem = doc.cems\n",
    "    corpus.append(cem)\n",
    "len(corpus)"
   ]
  },
  {
   "cell_type": "code",
   "execution_count": 50,
   "id": "38823c2c",
   "metadata": {},
   "outputs": [],
   "source": [
    "chem_names = [cem.text for sublist in corpus for cem in sublist]\n",
    "chem_names = set(chem_names)\n",
    "with open('vocab_for_annotation.csv', mode = 'w') as outfile:\n",
    "    writer = csv.writer(outfile)\n",
    "    writer.writerows(chem_names)"
   ]
  }
 ],
 "metadata": {
  "interpreter": {
   "hash": "4cf626fc45dea3f25557bd8b6791763f86db310429c35efaa0fb13565917c749"
  },
  "kernelspec": {
   "display_name": "Python 3.8.10 ('xcf_env': venv)",
   "language": "python",
   "name": "python3"
  },
  "language_info": {
   "codemirror_mode": {
    "name": "ipython",
    "version": 3
   },
   "file_extension": ".py",
   "mimetype": "text/x-python",
   "name": "python",
   "nbconvert_exporter": "python",
   "pygments_lexer": "ipython3",
   "version": "3.8.10"
  }
 },
 "nbformat": 4,
 "nbformat_minor": 5
}
