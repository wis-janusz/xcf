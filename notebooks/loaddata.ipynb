{
 "cells": [
  {
   "cell_type": "code",
   "execution_count": 1,
   "id": "00a7e602",
   "metadata": {},
   "outputs": [],
   "source": [
    "import requests\n",
    "import json"
   ]
  },
  {
   "cell_type": "code",
   "execution_count": 3,
   "id": "b77e1950",
   "metadata": {},
   "outputs": [],
   "source": [
    "PDB_search_endpoint = 'https://search.rcsb.org/rcsbsearch/v1/query'\n",
    "PDB_report_endpoint = 'https://data.rcsb.org/graphql'\n",
    "with open('search.json', 'r') as file_in:\n",
    "    search_query = file_in.read()\n",
    "with open('report.json', 'r') as file_in:\n",
    "    report_query_empty = file_in.read()"
   ]
  },
  {
   "cell_type": "code",
   "execution_count": 4,
   "id": "6d590524",
   "metadata": {},
   "outputs": [],
   "source": [
    "search_response = requests.get(url = PDB_search_endpoint, params = {'json' : search_query})"
   ]
  },
  {
   "cell_type": "code",
   "execution_count": 5,
   "id": "847418c8",
   "metadata": {},
   "outputs": [],
   "source": [
    "result_set = search_response.json()['result_set']"
   ]
  },
  {
   "cell_type": "code",
   "execution_count": 6,
   "id": "9959b7a1",
   "metadata": {},
   "outputs": [],
   "source": [
    "ids_list = []\n",
    "for item in result_set:\n",
    "    add_quotes = '\"{}\"'.format(item['identifier'])\n",
    "    ids_list.append(add_quotes)"
   ]
  },
  {
   "cell_type": "code",
   "execution_count": 7,
   "id": "eec8dc15",
   "metadata": {},
   "outputs": [],
   "source": [
    "n_batches = len(ids_list)//5000\n",
    "insert_ids = report_query_empty.find('[')+1\n",
    "report_query = []\n",
    "for i in range(n_batches+1):\n",
    "    report_query.append(report_query_empty[:insert_ids] + ','.join(ids_list[5000*i:5000*i+5000]) + report_query_empty[insert_ids:])"
   ]
  },
  {
   "cell_type": "code",
   "execution_count": 8,
   "id": "bca54162",
   "metadata": {},
   "outputs": [
    {
     "name": "stdout",
     "output_type": "stream",
     "text": [
      "Batch 1 ready.\n",
      "Batch 2 ready.\n",
      "Batch 3 ready.\n",
      "Batch 4 ready.\n",
      "Batch 5 ready.\n",
      "Batch 6 ready.\n",
      "Batch 7 ready.\n",
      "Batch 8 ready.\n",
      "Batch 9 ready.\n",
      "Batch 10 ready.\n",
      "Batch 11 ready.\n",
      "Batch 12 ready.\n",
      "Batch 13 ready.\n",
      "Batch 14 ready.\n",
      "Batch 15 ready.\n",
      "Batch 16 ready.\n",
      "Batch 17 ready.\n",
      "Batch 18 ready.\n",
      "Batch 19 ready.\n",
      "Batch 20 ready.\n",
      "Batch 21 ready.\n",
      "Batch 22 ready.\n",
      "Batch 23 ready.\n",
      "Batch 24 ready.\n"
     ]
    }
   ],
   "source": [
    "report_response = []\n",
    "for batch in report_query:\n",
    "    report_response.append(requests.get(url = PDB_report_endpoint, params = {'query' : batch}))\n",
    "    print('Batch {} ready.'.format(len(report_response)))"
   ]
  },
  {
   "cell_type": "code",
   "execution_count": 16,
   "id": "e4446424",
   "metadata": {},
   "outputs": [],
   "source": [
    "out_file_name = 'batch {}.json'\n",
    "for i in range(len(report_response)):\n",
    "    with open(out_file_name.format(i+1), 'w') as file_out:\n",
    "        json.dump(report_response[i].json(), file_out)\n",
    "    "
   ]
  }
 ],
 "metadata": {
  "kernelspec": {
   "display_name": "Python 3.8.10 ('xcf_env': venv)",
   "language": "python",
   "name": "python3"
  },
  "language_info": {
   "codemirror_mode": {
    "name": "ipython",
    "version": 3
   },
   "file_extension": ".py",
   "mimetype": "text/x-python",
   "name": "python",
   "nbconvert_exporter": "python",
   "pygments_lexer": "ipython3",
   "version": "3.8.10"
  },
  "vscode": {
   "interpreter": {
    "hash": "4cf626fc45dea3f25557bd8b6791763f86db310429c35efaa0fb13565917c749"
   }
  }
 },
 "nbformat": 4,
 "nbformat_minor": 5
}
