{
 "cells": [
  {
   "cell_type": "code",
   "execution_count": 14,
   "metadata": {},
   "outputs": [
    {
     "name": "stdout",
     "output_type": "stream",
     "text": [
      "The autoreload extension is already loaded. To reload it, use:\n",
      "  %reload_ext autoreload\n"
     ]
    }
   ],
   "source": [
    "%load_ext autoreload\n",
    "%autoreload\n",
    "import xcf\n",
    "import keras_nlp\n",
    "import random\n",
    "import pandas as pd\n",
    "import numpy as np\n",
    "import matplotlib.pyplot as plt\n",
    "from keras.utils import to_categorical\n",
    "from keras.callbacks import EarlyStopping\n",
    "from sklearn.metrics import classification_report, confusion_matrix, ConfusionMatrixDisplay"
   ]
  },
  {
   "cell_type": "code",
   "execution_count": 21,
   "metadata": {},
   "outputs": [],
   "source": [
    "AA_VOCAB = ['<PAD>','A','B','C','D','E','F','G','H','I','K','L','M','N','O','P','Q','R','S','T','U','V','W','X','Y','Z']\n",
    "ACIDS = [aa for aa in AA_VOCAB if aa not in ['<PAD>', 'K','R']]\n",
    "BASES = [aa for aa in AA_VOCAB if aa not in ['<PAD>', 'D','E']]\n",
    "NEUTRAL = [aa for aa in AA_VOCAB if aa not in ['<PAD>']]\n",
    "N_IN_CATEGORY = 1000\n",
    "MIN_SEQUENCE_LENGTH = 100\n",
    "MAX_SEQUENCE_LENGTH = 100 #Not counting <START> and <END> tokens\n",
    "\n",
    "BASELINE_N_LSTM_UNITS = 128\n",
    "BASELINE_DROPOUT = 0.5\n",
    "BASELINE_LEARNING_RATE = 0.00001\n",
    "BASELINE_BATCH_SIZE = 32\n",
    "BASELINE_EPOCHS = 10"
   ]
  },
  {
   "cell_type": "code",
   "execution_count": 3,
   "metadata": {},
   "outputs": [
    {
     "data": {
      "text/html": [
       "<div>\n",
       "<style scoped>\n",
       "    .dataframe tbody tr th:only-of-type {\n",
       "        vertical-align: middle;\n",
       "    }\n",
       "\n",
       "    .dataframe tbody tr th {\n",
       "        vertical-align: top;\n",
       "    }\n",
       "\n",
       "    .dataframe thead th {\n",
       "        text-align: right;\n",
       "    }\n",
       "</style>\n",
       "<table border=\"1\" class=\"dataframe\">\n",
       "  <thead>\n",
       "    <tr style=\"text-align: right;\">\n",
       "      <th></th>\n",
       "      <th>seq</th>\n",
       "      <th>acidity</th>\n",
       "    </tr>\n",
       "  </thead>\n",
       "  <tbody>\n",
       "    <tr>\n",
       "      <th>0</th>\n",
       "      <td>M P L T C X H G E G O M S D D Y U Q H B I Y H ...</td>\n",
       "      <td>[1, 0, 0]</td>\n",
       "    </tr>\n",
       "    <tr>\n",
       "      <th>1</th>\n",
       "      <td>M D W S D B E O W B N O W T H Y T I U Q H F B ...</td>\n",
       "      <td>[1, 0, 0]</td>\n",
       "    </tr>\n",
       "    <tr>\n",
       "      <th>2</th>\n",
       "      <td>M A P Q Y A I X W S I X S Y P O Z Y N L U L T ...</td>\n",
       "      <td>[1, 0, 0]</td>\n",
       "    </tr>\n",
       "    <tr>\n",
       "      <th>3</th>\n",
       "      <td>M U M Z G V O F F U I E H F O V W M I V H P X ...</td>\n",
       "      <td>[1, 0, 0]</td>\n",
       "    </tr>\n",
       "    <tr>\n",
       "      <th>4</th>\n",
       "      <td>M N A L Q S Q D U Z F G S X V O H Y Q G C N G ...</td>\n",
       "      <td>[1, 0, 0]</td>\n",
       "    </tr>\n",
       "  </tbody>\n",
       "</table>\n",
       "</div>"
      ],
      "text/plain": [
       "                                                 seq    acidity\n",
       "0  M P L T C X H G E G O M S D D Y U Q H B I Y H ...  [1, 0, 0]\n",
       "1  M D W S D B E O W B N O W T H Y T I U Q H F B ...  [1, 0, 0]\n",
       "2  M A P Q Y A I X W S I X S Y P O Z Y N L U L T ...  [1, 0, 0]\n",
       "3  M U M Z G V O F F U I E H F O V W M I V H P X ...  [1, 0, 0]\n",
       "4  M N A L Q S Q D U Z F G S X V O H Y Q G C N G ...  [1, 0, 0]"
      ]
     },
     "execution_count": 3,
     "metadata": {},
     "output_type": "execute_result"
    }
   ],
   "source": [
    "def generate_dummy_proteins(n, min_len, max_len, aas):\n",
    "    dummy_proteins = []\n",
    "    for _ in range(n):\n",
    "        protein = 'M'\n",
    "        length = random.randint(min_len, max_len)\n",
    "        for _ in range(length):\n",
    "            protein = ' '.join([protein, aas[random.randint(0, len(aas)-1)]])\n",
    "        dummy_proteins.append(protein)\n",
    "\n",
    "    return dummy_proteins\n",
    "\n",
    "\n",
    "acidic_dummy_proteins = pd.DataFrame({'seq':generate_dummy_proteins(N_IN_CATEGORY, MIN_SEQUENCE_LENGTH, MAX_SEQUENCE_LENGTH, ACIDS), 'acidity':[np.array([1,0,0]) for _ in range(N_IN_CATEGORY)]})\n",
    "basic_dummy_proteins = pd.DataFrame({'seq':generate_dummy_proteins(N_IN_CATEGORY, MIN_SEQUENCE_LENGTH, MAX_SEQUENCE_LENGTH, BASES), 'acidity':[np.array([0,1,0]) for _ in range(N_IN_CATEGORY)]})\n",
    "neutral_dummy_proteins = pd.DataFrame({'seq':generate_dummy_proteins(N_IN_CATEGORY, MIN_SEQUENCE_LENGTH, MAX_SEQUENCE_LENGTH, NEUTRAL), 'acidity':[np.array([0,0,1]) for _ in range(N_IN_CATEGORY)]})\n",
    "data = pd.concat([acidic_dummy_proteins,basic_dummy_proteins,neutral_dummy_proteins], axis=0)\n",
    "data.head()"
   ]
  },
  {
   "cell_type": "code",
   "execution_count": 4,
   "metadata": {},
   "outputs": [
    {
     "name": "stderr",
     "output_type": "stream",
     "text": [
      "2023-05-07 16:46:49.908545: I tensorflow/compiler/xla/stream_executor/cuda/cuda_gpu_executor.cc:982] could not open file to read NUMA node: /sys/bus/pci/devices/0000:01:00.0/numa_node\n",
      "Your kernel may have been built without NUMA support.\n",
      "2023-05-07 16:46:49.908970: W tensorflow/core/common_runtime/gpu/gpu_device.cc:1956] Cannot dlopen some GPU libraries. Please make sure the missing libraries mentioned above are installed properly if you would like to use GPU. Follow the guide at https://www.tensorflow.org/install/gpu for how to download and setup the required libraries for your platform.\n",
      "Skipping registering GPU devices...\n"
     ]
    }
   ],
   "source": [
    "data_train, data_val, data_test = xcf.split_df(data)\n",
    "\n",
    "tokenizer = keras_nlp.tokenizers.WordPieceTokenizer(\n",
    "    vocabulary=AA_VOCAB,\n",
    "    sequence_length=MAX_SEQUENCE_LENGTH,\n",
    "    oov_token='X'\n",
    ")\n",
    "\n",
    "data_train_X = data_train['seq'].to_numpy(dtype='str')\n",
    "data_val_X = data_val['seq'].to_numpy(dtype='str')\n",
    "data_test_X = data_test['seq'].to_numpy(dtype='str')\n",
    "\n",
    "data_train_X = tokenizer(data_train_X)\n",
    "data_val_X = tokenizer(data_val_X)\n",
    "data_test_X = tokenizer(data_test_X)\n",
    "\n",
    "data_train_X_1h = to_categorical(data_train_X,tokenizer.vocabulary_size(),dtype='uint8')\n",
    "data_val_X_1h = to_categorical(data_val_X,tokenizer.vocabulary_size(),dtype='uint8')\n",
    "data_test_X_1h = to_categorical(data_test_X,tokenizer.vocabulary_size(),dtype='uint8')\n",
    "\n",
    "data_train_Y_1h = np.stack(data_train['acidity'].to_numpy())\n",
    "data_val_Y_1h = np.stack(data_val['acidity'].to_numpy())\n",
    "data_test_Y_1h = np.stack(data_test['acidity'].to_numpy())"
   ]
  },
  {
   "cell_type": "code",
   "execution_count": 152,
   "metadata": {},
   "outputs": [
    {
     "name": "stdout",
     "output_type": "stream",
     "text": [
      "Model: \"model_9\"\n",
      "_________________________________________________________________\n",
      " Layer (type)                Output Shape              Param #   \n",
      "=================================================================\n",
      " input_10 (InputLayer)       [(None, 600, 26)]         0         \n",
      "                                                                 \n",
      " masking_9 (Masking)         (None, 600, 26)           0         \n",
      "                                                                 \n",
      " bidirectional_9 (Bidirectio  (None, 256)              158720    \n",
      " nal)                                                            \n",
      "                                                                 \n",
      " dense_9 (Dense)             (None, 3)                 771       \n",
      "                                                                 \n",
      "=================================================================\n",
      "Total params: 159,491\n",
      "Trainable params: 159,491\n",
      "Non-trainable params: 0\n",
      "_________________________________________________________________\n",
      "None\n"
     ]
    }
   ],
   "source": [
    "%autoreload\n",
    "lit_LSTM = xcf.models.compile_Liu2017_LSTM(\n",
    "    tokenizer=tokenizer,\n",
    "    seq_length=MAX_SEQUENCE_LENGTH,\n",
    "    n_hidden=BASELINE_N_LSTM_UNITS,\n",
    "    dropout=BASELINE_DROPOUT,\n",
    "    lr=BASELINE_LEARNING_RATE\n",
    ")"
   ]
  },
  {
   "cell_type": "code",
   "execution_count": 153,
   "metadata": {},
   "outputs": [
    {
     "name": "stdout",
     "output_type": "stream",
     "text": [
      "Epoch 1/10\n"
     ]
    },
    {
     "name": "stderr",
     "output_type": "stream",
     "text": [
      "2023-05-07 16:26:33.361764: I tensorflow/core/common_runtime/executor.cc:1197] [/device:CPU:0] (DEBUG INFO) Executor start aborting (this does not indicate an error and you can ignore this message): INVALID_ARGUMENT: You must feed a value for placeholder tensor 'gradients/ReverseV2_grad/ReverseV2/ReverseV2/axis' with dtype int32 and shape [1]\n",
      "\t [[{{node gradients/ReverseV2_grad/ReverseV2/ReverseV2/axis}}]]\n",
      "2023-05-07 16:26:34.976198: I tensorflow/core/common_runtime/executor.cc:1197] [/device:CPU:0] (DEBUG INFO) Executor start aborting (this does not indicate an error and you can ignore this message): INVALID_ARGUMENT: You must feed a value for placeholder tensor 'gradients/ReverseV2_grad/ReverseV2/ReverseV2/axis' with dtype int32 and shape [1]\n",
      "\t [[{{node gradients/ReverseV2_grad/ReverseV2/ReverseV2/axis}}]]\n"
     ]
    },
    {
     "name": "stdout",
     "output_type": "stream",
     "text": [
      "75/75 [==============================] - 39s 460ms/step - loss: 1.0969 - precision_7: 0.0000e+00 - recall_7: 0.0000e+00 - val_loss: 1.0919 - val_precision_7: 0.0000e+00 - val_recall_7: 0.0000e+00\n",
      "Epoch 2/10\n",
      "75/75 [==============================] - 32s 425ms/step - loss: 1.0646 - precision_7: 0.8163 - recall_7: 0.0167 - val_loss: 0.8211 - val_precision_7: 0.8255 - val_recall_7: 0.5833\n",
      "Epoch 3/10\n",
      "75/75 [==============================] - 32s 428ms/step - loss: 0.7603 - precision_7: 0.7440 - recall_7: 0.6029 - val_loss: 0.7476 - val_precision_7: 0.6449 - val_recall_7: 0.5933\n",
      "Epoch 4/10\n",
      "75/75 [==============================] - 32s 426ms/step - loss: 0.6752 - precision_7: 0.7494 - recall_7: 0.6242 - val_loss: 0.6222 - val_precision_7: 0.7186 - val_recall_7: 0.6300\n",
      "Epoch 5/10\n",
      "75/75 [==============================] - 33s 434ms/step - loss: 0.6216 - precision_7: 0.7593 - recall_7: 0.6662 - val_loss: 0.5503 - val_precision_7: 0.7814 - val_recall_7: 0.7267\n",
      "Epoch 6/10\n",
      "75/75 [==============================] - 34s 449ms/step - loss: 0.4845 - precision_7: 0.8443 - recall_7: 0.7975 - val_loss: 0.4047 - val_precision_7: 0.8503 - val_recall_7: 0.8333\n",
      "Epoch 7/10\n",
      "75/75 [==============================] - 33s 439ms/step - loss: 0.5470 - precision_7: 0.7751 - recall_7: 0.6662 - val_loss: 0.3743 - val_precision_7: 0.8633 - val_recall_7: 0.8000\n",
      "Epoch 8/10\n",
      "75/75 [==============================] - 34s 447ms/step - loss: 0.3719 - precision_7: 0.8921 - recall_7: 0.8717 - val_loss: 0.4234 - val_precision_7: 0.8255 - val_recall_7: 0.8200\n",
      "Epoch 9/10\n",
      "75/75 [==============================] - 38s 505ms/step - loss: 0.3503 - precision_7: 0.8795 - recall_7: 0.8725 - val_loss: 0.2254 - val_precision_7: 0.9530 - val_recall_7: 0.9467\n",
      "Epoch 10/10\n",
      "75/75 [==============================] - 33s 443ms/step - loss: 0.4372 - precision_7: 0.8144 - recall_7: 0.7788 - val_loss: 0.2624 - val_precision_7: 0.9497 - val_recall_7: 0.9433\n"
     ]
    }
   ],
   "source": [
    "early_stopping = EarlyStopping(patience=3)\n",
    "history_lit_LSTM = lit_LSTM.fit(\n",
    "    x=data_train_X_1h, \n",
    "    y=data_train_Y_1h, \n",
    "    validation_data=(data_val_X_1h, data_val_Y_1h),\n",
    "    batch_size=BASELINE_BATCH_SIZE, \n",
    "    epochs=BASELINE_EPOCHS,\n",
    "    callbacks=[early_stopping],\n",
    ")"
   ]
  },
  {
   "cell_type": "code",
   "execution_count": 154,
   "metadata": {},
   "outputs": [
    {
     "name": "stdout",
     "output_type": "stream",
     "text": [
      "10/10 [==============================] - 4s 223ms/step\n"
     ]
    }
   ],
   "source": [
    "results = lit_LSTM.predict(x=data_val_X_1h, batch_size=BASELINE_BATCH_SIZE)"
   ]
  },
  {
   "attachments": {},
   "cell_type": "markdown",
   "metadata": {},
   "source": [
    "Learning rate 10 times slower than default helped avoid predicting all zeroes!!!"
   ]
  },
  {
   "cell_type": "code",
   "execution_count": 155,
   "metadata": {},
   "outputs": [
    {
     "name": "stdout",
     "output_type": "stream",
     "text": [
      "              precision    recall  f1-score   support\n",
      "\n",
      "           0       0.91      1.00      0.95        93\n",
      "           1       0.98      0.96      0.97       106\n",
      "           2       0.96      0.89      0.92       101\n",
      "\n",
      "    accuracy                           0.95       300\n",
      "   macro avg       0.95      0.95      0.95       300\n",
      "weighted avg       0.95      0.95      0.95       300\n",
      "\n"
     ]
    },
    {
     "data": {
      "text/plain": [
       "<sklearn.metrics._plot.confusion_matrix.ConfusionMatrixDisplay at 0x7f37b41e8850>"
      ]
     },
     "execution_count": 155,
     "metadata": {},
     "output_type": "execute_result"
    },
    {
     "data": {
      "image/png": "[encoded data removed]",
      "text/plain": [
       "<Figure size 640x480 with 2 Axes>"
      ]
     },
     "metadata": {},
     "output_type": "display_data"
    }
   ],
   "source": [
    "true_labels = data_val_Y_1h.argmax(axis=1)\n",
    "pred_labels = results.argmax(axis=1)\n",
    "report = classification_report(true_labels, pred_labels)\n",
    "conf_matrix = confusion_matrix(true_labels, pred_labels)\n",
    "conf_matrix_plot = ConfusionMatrixDisplay(conf_matrix, display_labels=['acidic','basic','neutral'])\n",
    "print(report)\n",
    "conf_matrix_plot.plot()\n"
   ]
  },
  {
   "cell_type": "code",
   "execution_count": 22,
   "metadata": {},
   "outputs": [],
   "source": [
    "def compute_charge(seq):\n",
    "    charge = 0\n",
    "    for aa in seq:\n",
    "        if aa in ['D','E']:\n",
    "            charge -= 1\n",
    "        elif aa in ['K','R']:\n",
    "            charge += 1\n",
    "    return charge\n",
    "\n",
    "dummy_proteins = pd.DataFrame({'seq':generate_dummy_proteins(N_IN_CATEGORY*3, MIN_SEQUENCE_LENGTH, MAX_SEQUENCE_LENGTH, NEUTRAL)})\n",
    "dummy_proteins['charge']=dummy_proteins['seq'].apply(compute_charge)\n"
   ]
  },
  {
   "cell_type": "code",
   "execution_count": 23,
   "metadata": {},
   "outputs": [],
   "source": [
    "ch_data_train, ch_data_val, ch_data_test = xcf.split_df(dummy_proteins)\n",
    "\n",
    "tokenizer = keras_nlp.tokenizers.WordPieceTokenizer(\n",
    "    vocabulary=AA_VOCAB,\n",
    "    sequence_length=MAX_SEQUENCE_LENGTH,\n",
    "    oov_token='X'\n",
    ")\n",
    "\n",
    "ch_data_train_X = ch_data_train['seq'].to_numpy(dtype='str')\n",
    "ch_data_val_X = ch_data_val['seq'].to_numpy(dtype='str')\n",
    "ch_data_test_X = ch_data_test['seq'].to_numpy(dtype='str')\n",
    "\n",
    "ch_data_train_X = tokenizer(ch_data_train_X)\n",
    "ch_data_val_X = tokenizer(ch_data_val_X)\n",
    "ch_data_test_X = tokenizer(ch_data_test_X)\n",
    "\n",
    "ch_data_train_X_1h = to_categorical(ch_data_train_X,tokenizer.vocabulary_size(),dtype='uint8')\n",
    "ch_data_val_X_1h = to_categorical(ch_data_val_X,tokenizer.vocabulary_size(),dtype='uint8')\n",
    "ch_data_test_X_1h = to_categorical(ch_data_test_X,tokenizer.vocabulary_size(),dtype='uint8')\n",
    "\n",
    "ch_data_train_Y = ch_data_train['charge'].to_numpy()\n",
    "ch_data_val_Y = ch_data_val['charge'].to_numpy()\n",
    "ch_data_test_Y = ch_data_test['charge'].to_numpy()"
   ]
  },
  {
   "cell_type": "code",
   "execution_count": 32,
   "metadata": {},
   "outputs": [
    {
     "name": "stdout",
     "output_type": "stream",
     "text": [
      "Model: \"model_6\"\n",
      "_________________________________________________________________\n",
      " Layer (type)                Output Shape              Param #   \n",
      "=================================================================\n",
      " input_7 (InputLayer)        [(None, 100, 26)]         0         \n",
      "                                                                 \n",
      " masking_6 (Masking)         (None, 100, 26)           0         \n",
      "                                                                 \n",
      " bidirectional_6 (Bidirectio  (None, 256)              158720    \n",
      " nal)                                                            \n",
      "                                                                 \n",
      " dense_6 (Dense)             (None, 1)                 257       \n",
      "                                                                 \n",
      "=================================================================\n",
      "Total params: 158,977\n",
      "Trainable params: 158,977\n",
      "Non-trainable params: 0\n",
      "_________________________________________________________________\n",
      "None\n"
     ]
    }
   ],
   "source": [
    "%autoreload\n",
    "ch_lit_LSTM = xcf.models.compile_Liu2017_LSTM_reg(\n",
    "    tokenizer=tokenizer,\n",
    "    seq_length=MAX_SEQUENCE_LENGTH,\n",
    "    n_hidden=BASELINE_N_LSTM_UNITS,\n",
    "    dropout=BASELINE_DROPOUT,\n",
    "    lr=BASELINE_LEARNING_RATE\n",
    ")"
   ]
  },
  {
   "cell_type": "code",
   "execution_count": 33,
   "metadata": {},
   "outputs": [
    {
     "name": "stdout",
     "output_type": "stream",
     "text": [
      "Epoch 1/10\n"
     ]
    },
    {
     "name": "stderr",
     "output_type": "stream",
     "text": [
      "2023-05-07 17:03:32.956267: I tensorflow/core/common_runtime/executor.cc:1197] [/device:CPU:0] (DEBUG INFO) Executor start aborting (this does not indicate an error and you can ignore this message): INVALID_ARGUMENT: You must feed a value for placeholder tensor 'gradients/ReverseV2_grad/ReverseV2/ReverseV2/axis' with dtype int32 and shape [1]\n",
      "\t [[{{node gradients/ReverseV2_grad/ReverseV2/ReverseV2/axis}}]]\n",
      "2023-05-07 17:03:34.985835: I tensorflow/core/common_runtime/executor.cc:1197] [/device:CPU:0] (DEBUG INFO) Executor start aborting (this does not indicate an error and you can ignore this message): INVALID_ARGUMENT: You must feed a value for placeholder tensor 'gradients/ReverseV2_grad/ReverseV2/ReverseV2/axis' with dtype int32 and shape [1]\n",
      "\t [[{{node gradients/ReverseV2_grad/ReverseV2/ReverseV2/axis}}]]\n"
     ]
    },
    {
     "name": "stdout",
     "output_type": "stream",
     "text": [
      "75/75 [==============================] - 13s 111ms/step - loss: 15.4332 - root_mean_squared_error: 3.9285 - val_loss: 16.5383 - val_root_mean_squared_error: 4.0667\n",
      "Epoch 2/10\n",
      "75/75 [==============================] - 6s 86ms/step - loss: 15.4284 - root_mean_squared_error: 3.9279 - val_loss: 16.5385 - val_root_mean_squared_error: 4.0668\n",
      "Epoch 3/10\n",
      "75/75 [==============================] - 6s 79ms/step - loss: 15.4224 - root_mean_squared_error: 3.9271 - val_loss: 16.5388 - val_root_mean_squared_error: 4.0668\n",
      "Epoch 4/10\n",
      "75/75 [==============================] - 6s 80ms/step - loss: 15.4348 - root_mean_squared_error: 3.9287 - val_loss: 16.5390 - val_root_mean_squared_error: 4.0668\n"
     ]
    }
   ],
   "source": [
    "early_stopping = EarlyStopping(patience=3)\n",
    "ch_history_lit_LSTM = ch_lit_LSTM.fit(\n",
    "    x=ch_data_train_X_1h, \n",
    "    y=ch_data_train_Y, \n",
    "    validation_data=(ch_data_val_X_1h, ch_data_val_Y),\n",
    "    batch_size=BASELINE_BATCH_SIZE, \n",
    "    epochs=BASELINE_EPOCHS,\n",
    "    callbacks=[early_stopping],\n",
    ")"
   ]
  },
  {
   "cell_type": "code",
   "execution_count": 34,
   "metadata": {},
   "outputs": [
    {
     "name": "stdout",
     "output_type": "stream",
     "text": [
      "10/10 [==============================] - 2s 41ms/step\n"
     ]
    }
   ],
   "source": [
    "ch_results = ch_lit_LSTM.predict(x=ch_data_val_X_1h, batch_size=BASELINE_BATCH_SIZE)"
   ]
  },
  {
   "cell_type": "code",
   "execution_count": 35,
   "metadata": {},
   "outputs": [
    {
     "data": {
      "text/plain": [
       "<matplotlib.collections.PathCollection at 0x7f279ca54c10>"
      ]
     },
     "execution_count": 35,
     "metadata": {},
     "output_type": "execute_result"
    },
    {
     "data": {
      "image/png": "[encoded data removed]",
      "text/plain": [
       "<Figure size 640x480 with 1 Axes>"
      ]
     },
     "metadata": {},
     "output_type": "display_data"
    }
   ],
   "source": [
    "plt.scatter(ch_results, ch_data_val_Y)"
   ]
  }
 ],
 "metadata": {
  "kernelspec": {
   "display_name": "env",
   "language": "python",
   "name": "python3"
  },
  "language_info": {
   "codemirror_mode": {
    "name": "ipython",
    "version": 3
   },
   "file_extension": ".py",
   "mimetype": "text/x-python",
   "name": "python",
   "nbconvert_exporter": "python",
   "pygments_lexer": "ipython3",
   "version": "3.10.6"
  },
  "orig_nbformat": 4
 },
 "nbformat": 4,
 "nbformat_minor": 2
}
