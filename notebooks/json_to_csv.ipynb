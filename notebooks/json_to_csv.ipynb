{
 "cells": [
  {
   "cell_type": "code",
   "execution_count": 1,
   "id": "3d2863dc",
   "metadata": {},
   "outputs": [],
   "source": [
    "import json\n",
    "import pandas as pd"
   ]
  },
  {
   "cell_type": "code",
   "execution_count": 8,
   "id": "39084e7c",
   "metadata": {},
   "outputs": [
    {
     "name": "stdout",
     "output_type": "stream",
     "text": [
      "Batch 1 ready\n",
      "Batch 2 ready\n",
      "Batch 3 ready\n",
      "Batch 4 ready\n",
      "Batch 5 ready\n",
      "Batch 6 ready\n",
      "Batch 7 ready\n",
      "Batch 8 ready\n",
      "Batch 9 ready\n",
      "Batch 10 ready\n",
      "Batch 11 ready\n",
      "Batch 12 ready\n",
      "Batch 13 ready\n",
      "Batch 14 ready\n",
      "Batch 15 ready\n",
      "Batch 16 ready\n",
      "Batch 17 ready\n",
      "Batch 18 ready\n",
      "Batch 19 ready\n",
      "Batch 20 ready\n",
      "Batch 21 ready\n",
      "Batch 22 ready\n",
      "Batch 23 ready\n",
      "Batch 24 ready\n"
     ]
    },
    {
     "data": {
      "text/plain": [
       "{'rcsb_id': '9XIM',\n",
       " 'exptl_crystal': [{'density_Matthews': 3.96, 'density_percent_sol': 68.92}],\n",
       " 'exptl_crystal_grow': None,\n",
       " 'rcsb_entry_container_identifiers': {'entry_id': '9XIM'},\n",
       " 'rcsb_entry_info': {'resolution_combined': [2.4]},\n",
       " 'polymer_entities': [{'entity_poly': {'pdbx_seq_one_letter_code_can': 'SVQATREDKFSFGLWTVGWQARDAFGDATRTALDPVEAVHKLAEIGAYGITFHDDDLVPFGSDAQTRDGIIAGFKKALDETGLIVPMVTTNLFTHPVFKDGGFTSNDRSVRRYAIRKVLRQMDLGAELGAKTLVLWGGREGAEYDSAKDVSAALDRYREALNLLAQYSEDRGYGLRFAIEPKPNQPRGDILLPTAGHAIAFVQELERPELFGINPETGHEQMSNLNFTQGIAQALWHKKLFHIDLNGQHGPKFDQDLVFGHGDLLNAFSLVDLLENGPDGAPAYDGPRHFDYKPSRTEDYDGVWESAKANIRMYLLLKERAKAFRADPEVQEALAASKVAELKTPTLNPGEGYAELLADRSAFEDYDADAVGAKGFGFVKLNQLAIEHLLGAR'},\n",
       "   'rcsb_entity_source_organism': [{'ncbi_scientific_name': 'Actinoplanes missouriensis'}]}]}"
      ]
     },
     "execution_count": 8,
     "metadata": {},
     "output_type": "execute_result"
    }
   ],
   "source": [
    "data_json = []\n",
    "in_file_name = 'batch {}.json'\n",
    "for i in range(24):\n",
    "    with open(in_file_name.format(i+1), 'r') as file_in:\n",
    "        data_json.append(json.load(file_in))\n",
    "        data_json[-1] = data_json[-1]['data']['entries']\n",
    "        print('Batch {} ready'.format(i+1))\n",
    "data_json = [entry for batch in data_json for entry in batch]\n",
    "data_json[-1]"
   ]
  },
  {
   "cell_type": "code",
   "execution_count": 19,
   "id": "189fb318",
   "metadata": {},
   "outputs": [],
   "source": [
    "data_raw = pd.json_normalize(data_json)\n",
    "data_raw['resolution'] = data_raw['rcsb_entry_info.resolution_combined'].str[0]\n",
    "data_raw['matthews'] = data_raw['exptl_crystal'].str[0].str['density_Matthews']\n",
    "data_raw['percent_solvent'] = data_raw['exptl_crystal'].str[0].str['density_percent_sol']\n",
    "data_raw['method'] = data_raw['exptl_crystal_grow'].str[0].str['method']\n",
    "data_raw['pH'] = data_raw['exptl_crystal_grow'].str[0].str['pH']\n",
    "data_raw['temp'] = data_raw['exptl_crystal_grow'].str[0].str['temp']\n",
    "data_raw['organism'] = data_raw['polymer_entities'].str[0].str['rcsb_entity_source_organism'].str[0].str['ncbi_scientific_name']\n",
    "data_raw['sequence'] = data_raw['polymer_entities'].str[0].str['entity_poly'].str['pdbx_seq_one_letter_code_can']\n",
    "data_raw['conditions'] = data_raw['exptl_crystal_grow'].str[0].str['pdbx_details']\n",
    "data_raw = data_raw.drop(['rcsb_entry_info.resolution_combined','rcsb_entry_container_identifiers.entry_id', 'exptl_crystal', 'exptl_crystal_grow', 'polymer_entities'], axis = 1)\n",
    "with open('data_raw.csv', 'w') as file_out:\n",
    "    data_raw.to_csv(file_out)\n"
   ]
  }
 ],
 "metadata": {
  "kernelspec": {
   "display_name": "Python 3",
   "language": "python",
   "name": "python3"
  },
  "language_info": {
   "codemirror_mode": {
    "name": "ipython",
    "version": 3
   },
   "file_extension": ".py",
   "mimetype": "text/x-python",
   "name": "python",
   "nbconvert_exporter": "python",
   "pygments_lexer": "ipython3",
   "version": "3.8.8"
  }
 },
 "nbformat": 4,
 "nbformat_minor": 5
}
