{
 "cells": [
  {
   "cell_type": "code",
   "execution_count": 1,
   "metadata": {},
   "outputs": [],
   "source": [
    "import csv"
   ]
  },
  {
   "cell_type": "code",
   "execution_count": 10,
   "metadata": {},
   "outputs": [],
   "source": [
    "with open('vocab_annotated.csv', mode = 'r') as infile:\n",
    "    reader = csv.reader(infile)\n",
    "    vocab_old = {rows[0]:rows[1] for rows in reader}\n",
    "for key in vocab_old:\n",
    "    vocab_old[key] = vocab_old[key].replace(' ','').split(',')\n",
    "\n",
    "with open('vocab_for_annotation.csv', mode = 'r') as infile:\n",
    "    reader = csv.reader(infile)\n",
    "    vocab_new = [rows[0]for rows in reader]\n",
    "\n",
    "for index, word in enumerate(vocab_new):\n",
    "    if word not in vocab_old:\n",
    "        vocab_new.pop(index)\n",
    "\n",
    "with open('vocab_annotated_new.csv', mode='w', newline='') as outfile:\n",
    "    writer = csv.writer(outfile)\n",
    "    writer.writerow(vocab_new)"
   ]
  }
 ],
 "metadata": {
  "interpreter": {
   "hash": "4cf626fc45dea3f25557bd8b6791763f86db310429c35efaa0fb13565917c749"
  },
  "kernelspec": {
   "display_name": "Python 3.8.10 ('xcf_env': venv)",
   "language": "python",
   "name": "python3"
  },
  "language_info": {
   "codemirror_mode": {
    "name": "ipython",
    "version": 3
   },
   "file_extension": ".py",
   "mimetype": "text/x-python",
   "name": "python",
   "nbconvert_exporter": "python",
   "pygments_lexer": "ipython3",
   "version": "3.8.10"
  },
  "orig_nbformat": 4
 },
 "nbformat": 4,
 "nbformat_minor": 2
}
