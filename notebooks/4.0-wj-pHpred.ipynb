{
 "cells": [
  {
   "cell_type": "code",
   "execution_count": 40,
   "metadata": {},
   "outputs": [],
   "source": [
    "import xcf\n",
    "import numpy as np\n",
    "import pandas as pd\n",
    "import tensorflow as tf\n",
    "import keras_nlp"
   ]
  },
  {
   "cell_type": "code",
   "execution_count": 6,
   "metadata": {},
   "outputs": [
    {
     "data": {
      "text/html": [
       "<div>\n",
       "<style scoped>\n",
       "    .dataframe tbody tr th:only-of-type {\n",
       "        vertical-align: middle;\n",
       "    }\n",
       "\n",
       "    .dataframe tbody tr th {\n",
       "        vertical-align: top;\n",
       "    }\n",
       "\n",
       "    .dataframe thead th {\n",
       "        text-align: right;\n",
       "    }\n",
       "</style>\n",
       "<table border=\"1\" class=\"dataframe\">\n",
       "  <thead>\n",
       "    <tr style=\"text-align: right;\">\n",
       "      <th></th>\n",
       "      <th>pH</th>\n",
       "      <th>sequence</th>\n",
       "      <th>len_seq</th>\n",
       "      <th>tokens</th>\n",
       "      <th>ids</th>\n",
       "    </tr>\n",
       "    <tr>\n",
       "      <th>rcsb_id</th>\n",
       "      <th></th>\n",
       "      <th></th>\n",
       "      <th></th>\n",
       "      <th></th>\n",
       "      <th></th>\n",
       "    </tr>\n",
       "  </thead>\n",
       "  <tbody>\n",
       "    <tr>\n",
       "      <th>4ZLN</th>\n",
       "      <td>7.5</td>\n",
       "      <td>DEYEIIETIGNGAYGVVSSARRRLTGQQVAIKKIPNAFDVVTNAKR...</td>\n",
       "      <td>341</td>\n",
       "      <td>[&lt;START&gt;, D, E, Y, E, I, I, E, T, I, G, N, G, ...</td>\n",
       "      <td>[1, 7, 8, 27, 8, 12, 12, 8, 22, 12, 10, 16, 10...</td>\n",
       "    </tr>\n",
       "    <tr>\n",
       "      <th>4TWU</th>\n",
       "      <td>7.5</td>\n",
       "      <td>ANKTVVVTTILESPYVMMKKNHEMLEGNERYEGYCVDLAAEIAKHC...</td>\n",
       "      <td>262</td>\n",
       "      <td>[&lt;START&gt;, A, N, K, T, V, V, V, T, T, I, L, E, ...</td>\n",
       "      <td>[1, 4, 16, 13, 22, 24, 24, 24, 22, 22, 12, 14,...</td>\n",
       "    </tr>\n",
       "    <tr>\n",
       "      <th>4GRD</th>\n",
       "      <td>8.0</td>\n",
       "      <td>PAAAMFIVNTNVPRASVPDGFLSELTQQLAQATGKPPQYIAVHVVP...</td>\n",
       "      <td>117</td>\n",
       "      <td>[&lt;START&gt;, P, A, A, A, M, F, I, V, N, T, N, V, ...</td>\n",
       "      <td>[1, 18, 4, 4, 4, 15, 9, 12, 24, 16, 22, 16, 24...</td>\n",
       "    </tr>\n",
       "    <tr>\n",
       "      <th>2ZRH</th>\n",
       "      <td>4.6</td>\n",
       "      <td>MPDIVNRKVEHVEIAAFENVDGLSSSTFLNDVILVHQGFPGISFSE...</td>\n",
       "      <td>368</td>\n",
       "      <td>[&lt;START&gt;, M, P, D, I, V, N, R, K, V, E, H, V, ...</td>\n",
       "      <td>[1, 15, 18, 7, 12, 24, 16, 20, 13, 24, 8, 11, ...</td>\n",
       "    </tr>\n",
       "    <tr>\n",
       "      <th>2GAL</th>\n",
       "      <td>6.0</td>\n",
       "      <td>MNLKDKILGVAKELFIKNGYNATTTGEIVKLSESSKGNLYYHFKTK...</td>\n",
       "      <td>194</td>\n",
       "      <td>[&lt;START&gt;, M, N, L, K, D, K, I, L, G, V, A, K, ...</td>\n",
       "      <td>[1, 15, 16, 14, 13, 7, 13, 12, 14, 10, 24, 4, ...</td>\n",
       "    </tr>\n",
       "  </tbody>\n",
       "</table>\n",
       "</div>"
      ],
      "text/plain": [
       "          pH                                           sequence  len_seq  \\\n",
       "rcsb_id                                                                    \n",
       "4ZLN     7.5  DEYEIIETIGNGAYGVVSSARRRLTGQQVAIKKIPNAFDVVTNAKR...      341   \n",
       "4TWU     7.5  ANKTVVVTTILESPYVMMKKNHEMLEGNERYEGYCVDLAAEIAKHC...      262   \n",
       "4GRD     8.0  PAAAMFIVNTNVPRASVPDGFLSELTQQLAQATGKPPQYIAVHVVP...      117   \n",
       "2ZRH     4.6  MPDIVNRKVEHVEIAAFENVDGLSSSTFLNDVILVHQGFPGISFSE...      368   \n",
       "2GAL     6.0  MNLKDKILGVAKELFIKNGYNATTTGEIVKLSESSKGNLYYHFKTK...      194   \n",
       "\n",
       "                                                    tokens  \\\n",
       "rcsb_id                                                      \n",
       "4ZLN     [<START>, D, E, Y, E, I, I, E, T, I, G, N, G, ...   \n",
       "4TWU     [<START>, A, N, K, T, V, V, V, T, T, I, L, E, ...   \n",
       "4GRD     [<START>, P, A, A, A, M, F, I, V, N, T, N, V, ...   \n",
       "2ZRH     [<START>, M, P, D, I, V, N, R, K, V, E, H, V, ...   \n",
       "2GAL     [<START>, M, N, L, K, D, K, I, L, G, V, A, K, ...   \n",
       "\n",
       "                                                       ids  \n",
       "rcsb_id                                                     \n",
       "4ZLN     [1, 7, 8, 27, 8, 12, 12, 8, 22, 12, 10, 16, 10...  \n",
       "4TWU     [1, 4, 16, 13, 22, 24, 24, 24, 22, 22, 12, 14,...  \n",
       "4GRD     [1, 18, 4, 4, 4, 15, 9, 12, 24, 16, 22, 16, 24...  \n",
       "2ZRH     [1, 15, 18, 7, 12, 24, 16, 20, 13, 24, 8, 11, ...  \n",
       "2GAL     [1, 15, 16, 14, 13, 7, 13, 12, 14, 10, 24, 4, ...  "
      ]
     },
     "execution_count": 6,
     "metadata": {},
     "output_type": "execute_result"
    }
   ],
   "source": [
    "data_codetest = xcf.load_data_from_db('data_pHpred_codetest', mode = 'clean')\n",
    "data_codetest[['tokens', 'ids']]= data_codetest['sequence'].apply(xcf.tokenizers.tokenize_protein)\n",
    "data_codetest.head()"
   ]
  },
  {
   "cell_type": "code",
   "execution_count": 39,
   "metadata": {},
   "outputs": [],
   "source": [
    "ds_codetest = tf.data.Dataset.from_tensor_slices((np.array(data_codetest['ids'].values.tolist()), np.array(data_codetest['pH'].values.tolist())))\n",
    "ds_codetest_train, ds_codetest_val, ds_codetest_test = xcf.split_ds(ds_codetest)"
   ]
  },
  {
   "cell_type": "code",
   "execution_count": null,
   "metadata": {},
   "outputs": [],
   "source": [
    "masker = keras_nlp.layers.MaskedLMMaskGenerator(\n",
    "    vocabulary_size=tokenizer.vocabulary_size(),\n",
    "    mask_selection_rate=0.25,\n",
    "    mask_selection_length=1,\n",
    "    mask_token_id=3,\n",
    ")\n",
    "masked = masker"
   ]
  }
 ],
 "metadata": {
  "kernelspec": {
   "display_name": "env",
   "language": "python",
   "name": "python3"
  },
  "language_info": {
   "codemirror_mode": {
    "name": "ipython",
    "version": 3
   },
   "file_extension": ".py",
   "mimetype": "text/x-python",
   "name": "python",
   "nbconvert_exporter": "python",
   "pygments_lexer": "ipython3",
   "version": "3.10.6"
  },
  "orig_nbformat": 4
 },
 "nbformat": 4,
 "nbformat_minor": 2
}
