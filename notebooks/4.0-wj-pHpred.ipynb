{
 "cells": [
  {
   "cell_type": "code",
   "execution_count": 1,
   "metadata": {},
   "outputs": [
    {
     "name": "stderr",
     "output_type": "stream",
     "text": [
      "2023-04-25 08:18:51.168801: I tensorflow/core/platform/cpu_feature_guard.cc:182] This TensorFlow binary is optimized to use available CPU instructions in performance-critical operations.\n",
      "To enable the following instructions: AVX2 FMA, in other operations, rebuild TensorFlow with the appropriate compiler flags.\n",
      "2023-04-25 08:18:51.847273: W tensorflow/compiler/tf2tensorrt/utils/py_utils.cc:38] TF-TRT Warning: Could not find TensorRT\n"
     ]
    }
   ],
   "source": [
    "import xcf\n",
    "import numpy as np\n",
    "import pandas as pd\n",
    "import tensorflow as tf\n",
    "import keras_nlp"
   ]
  },
  {
   "cell_type": "code",
   "execution_count": 16,
   "metadata": {},
   "outputs": [],
   "source": [
    "PRETRAINING_BATCH_SIZE = 32\n",
    "AA_VOCAB = ['<PAD>','<START>','<END>','<MASK>','A','B','C','D','E','F','G','H','I','K','L','M','N','O','P','Q','R','S','T','U','V','W','X','Y','Z']\n",
    "MAX_SEQUENCE_LENGTH = 600 #Not counting <START> and <END> tokens\n",
    "MASK_RATE = 0.25\n",
    "PREDICTIONS_PER_SEQ = 32"
   ]
  },
  {
   "cell_type": "code",
   "execution_count": 13,
   "metadata": {},
   "outputs": [
    {
     "data": {
      "text/html": [
       "<div>\n",
       "<style scoped>\n",
       "    .dataframe tbody tr th:only-of-type {\n",
       "        vertical-align: middle;\n",
       "    }\n",
       "\n",
       "    .dataframe tbody tr th {\n",
       "        vertical-align: top;\n",
       "    }\n",
       "\n",
       "    .dataframe thead th {\n",
       "        text-align: right;\n",
       "    }\n",
       "</style>\n",
       "<table border=\"1\" class=\"dataframe\">\n",
       "  <thead>\n",
       "    <tr style=\"text-align: right;\">\n",
       "      <th></th>\n",
       "      <th>pH</th>\n",
       "      <th>sequence</th>\n",
       "      <th>len_seq</th>\n",
       "      <th>tokens</th>\n",
       "      <th>ids</th>\n",
       "      <th>seq_as_words</th>\n",
       "    </tr>\n",
       "    <tr>\n",
       "      <th>rcsb_id</th>\n",
       "      <th></th>\n",
       "      <th></th>\n",
       "      <th></th>\n",
       "      <th></th>\n",
       "      <th></th>\n",
       "      <th></th>\n",
       "    </tr>\n",
       "  </thead>\n",
       "  <tbody>\n",
       "    <tr>\n",
       "      <th>4ZLN</th>\n",
       "      <td>7.5</td>\n",
       "      <td>DEYEIIETIGNGAYGVVSSARRRLTGQQVAIKKIPNAFDVVTNAKR...</td>\n",
       "      <td>341</td>\n",
       "      <td>[&lt;START&gt;, D, E, Y, E, I, I, E, T, I, G, N, G, ...</td>\n",
       "      <td>[1, 7, 8, 27, 8, 12, 12, 8, 22, 12, 10, 16, 10...</td>\n",
       "      <td>D E Y E I I E T I G N G A Y G V V S S A R R R ...</td>\n",
       "    </tr>\n",
       "    <tr>\n",
       "      <th>4TWU</th>\n",
       "      <td>7.5</td>\n",
       "      <td>ANKTVVVTTILESPYVMMKKNHEMLEGNERYEGYCVDLAAEIAKHC...</td>\n",
       "      <td>262</td>\n",
       "      <td>[&lt;START&gt;, A, N, K, T, V, V, V, T, T, I, L, E, ...</td>\n",
       "      <td>[1, 4, 16, 13, 22, 24, 24, 24, 22, 22, 12, 14,...</td>\n",
       "      <td>A N K T V V V T T I L E S P Y V M M K K N H E ...</td>\n",
       "    </tr>\n",
       "    <tr>\n",
       "      <th>4GRD</th>\n",
       "      <td>8.0</td>\n",
       "      <td>PAAAMFIVNTNVPRASVPDGFLSELTQQLAQATGKPPQYIAVHVVP...</td>\n",
       "      <td>117</td>\n",
       "      <td>[&lt;START&gt;, P, A, A, A, M, F, I, V, N, T, N, V, ...</td>\n",
       "      <td>[1, 18, 4, 4, 4, 15, 9, 12, 24, 16, 22, 16, 24...</td>\n",
       "      <td>P A A A M F I V N T N V P R A S V P D G F L S ...</td>\n",
       "    </tr>\n",
       "    <tr>\n",
       "      <th>2ZRH</th>\n",
       "      <td>4.6</td>\n",
       "      <td>MPDIVNRKVEHVEIAAFENVDGLSSSTFLNDVILVHQGFPGISFSE...</td>\n",
       "      <td>368</td>\n",
       "      <td>[&lt;START&gt;, M, P, D, I, V, N, R, K, V, E, H, V, ...</td>\n",
       "      <td>[1, 15, 18, 7, 12, 24, 16, 20, 13, 24, 8, 11, ...</td>\n",
       "      <td>M P D I V N R K V E H V E I A A F E N V D G L ...</td>\n",
       "    </tr>\n",
       "    <tr>\n",
       "      <th>2GAL</th>\n",
       "      <td>6.0</td>\n",
       "      <td>MNLKDKILGVAKELFIKNGYNATTTGEIVKLSESSKGNLYYHFKTK...</td>\n",
       "      <td>194</td>\n",
       "      <td>[&lt;START&gt;, M, N, L, K, D, K, I, L, G, V, A, K, ...</td>\n",
       "      <td>[1, 15, 16, 14, 13, 7, 13, 12, 14, 10, 24, 4, ...</td>\n",
       "      <td>M N L K D K I L G V A K E L F I K N G Y N A T ...</td>\n",
       "    </tr>\n",
       "  </tbody>\n",
       "</table>\n",
       "</div>"
      ],
      "text/plain": [
       "          pH                                           sequence  len_seq  \\\n",
       "rcsb_id                                                                    \n",
       "4ZLN     7.5  DEYEIIETIGNGAYGVVSSARRRLTGQQVAIKKIPNAFDVVTNAKR...      341   \n",
       "4TWU     7.5  ANKTVVVTTILESPYVMMKKNHEMLEGNERYEGYCVDLAAEIAKHC...      262   \n",
       "4GRD     8.0  PAAAMFIVNTNVPRASVPDGFLSELTQQLAQATGKPPQYIAVHVVP...      117   \n",
       "2ZRH     4.6  MPDIVNRKVEHVEIAAFENVDGLSSSTFLNDVILVHQGFPGISFSE...      368   \n",
       "2GAL     6.0  MNLKDKILGVAKELFIKNGYNATTTGEIVKLSESSKGNLYYHFKTK...      194   \n",
       "\n",
       "                                                    tokens  \\\n",
       "rcsb_id                                                      \n",
       "4ZLN     [<START>, D, E, Y, E, I, I, E, T, I, G, N, G, ...   \n",
       "4TWU     [<START>, A, N, K, T, V, V, V, T, T, I, L, E, ...   \n",
       "4GRD     [<START>, P, A, A, A, M, F, I, V, N, T, N, V, ...   \n",
       "2ZRH     [<START>, M, P, D, I, V, N, R, K, V, E, H, V, ...   \n",
       "2GAL     [<START>, M, N, L, K, D, K, I, L, G, V, A, K, ...   \n",
       "\n",
       "                                                       ids  \\\n",
       "rcsb_id                                                      \n",
       "4ZLN     [1, 7, 8, 27, 8, 12, 12, 8, 22, 12, 10, 16, 10...   \n",
       "4TWU     [1, 4, 16, 13, 22, 24, 24, 24, 22, 22, 12, 14,...   \n",
       "4GRD     [1, 18, 4, 4, 4, 15, 9, 12, 24, 16, 22, 16, 24...   \n",
       "2ZRH     [1, 15, 18, 7, 12, 24, 16, 20, 13, 24, 8, 11, ...   \n",
       "2GAL     [1, 15, 16, 14, 13, 7, 13, 12, 14, 10, 24, 4, ...   \n",
       "\n",
       "                                              seq_as_words  \n",
       "rcsb_id                                                     \n",
       "4ZLN     D E Y E I I E T I G N G A Y G V V S S A R R R ...  \n",
       "4TWU     A N K T V V V T T I L E S P Y V M M K K N H E ...  \n",
       "4GRD     P A A A M F I V N T N V P R A S V P D G F L S ...  \n",
       "2ZRH     M P D I V N R K V E H V E I A A F E N V D G L ...  \n",
       "2GAL     M N L K D K I L G V A K E L F I K N G Y N A T ...  "
      ]
     },
     "execution_count": 13,
     "metadata": {},
     "output_type": "execute_result"
    }
   ],
   "source": [
    "data_prelim = xcf.load_data_from_db('data_pHpred_codetest', mode = 'clean')\n",
    "data_prelim[['tokens', 'ids']] = data_prelim['sequence'].apply(xcf.tokenizers.tokenize_protein, args=(AA_VOCAB, MAX_SEQUENCE_LENGTH))\n",
    "data_prelim['seq_as_words'] = data_prelim['sequence'].apply(lambda s: ' '.join([char for char in s]))\n",
    "data_prelim.head()"
   ]
  },
  {
   "cell_type": "code",
   "execution_count": 18,
   "metadata": {},
   "outputs": [],
   "source": [
    "ds_prelim = tf.data.Dataset.from_tensor_slices((np.array(data_prelim['seq_as_words'].values.tolist())))\n",
    "ds_prelim_train, ds_prelim_val, ds_prelim_test = xcf.split_ds(ds_prelim)\n",
    "ds_prelim_train = ds_prelim_train.batch(PRETRAINING_BATCH_SIZE)\n",
    "ds_prelim_val = ds_prelim_val.batch(PRETRAINING_BATCH_SIZE)\n",
    "ds_prelim_test = ds_prelim_test.batch(PRETRAINING_BATCH_SIZE)\n"
   ]
  },
  {
   "cell_type": "code",
   "execution_count": 21,
   "metadata": {},
   "outputs": [
    {
     "name": "stderr",
     "output_type": "stream",
     "text": [
      "2023-04-25 08:50:19.280076: I tensorflow/core/common_runtime/executor.cc:1197] [/device:CPU:0] (DEBUG INFO) Executor start aborting (this does not indicate an error and you can ignore this message): INVALID_ARGUMENT: You must feed a value for placeholder tensor 'masked_lm_mask_generator_1/RaggedGather/cond/zeros/Reshape/masked_lm_mask_generator_1/RaggedGather/strided_slice' with dtype int64\n",
      "\t [[{{node masked_lm_mask_generator_1/RaggedGather/cond/zeros/Reshape/masked_lm_mask_generator_1/RaggedGather/strided_slice}}]]\n",
      "2023-04-25 08:50:19.285253: I tensorflow/core/common_runtime/executor.cc:1197] [/device:CPU:0] (DEBUG INFO) Executor start aborting (this does not indicate an error and you can ignore this message): INVALID_ARGUMENT: You must feed a value for placeholder tensor 'masked_lm_mask_generator_1/RaggedGather/cond/cond/range/masked_lm_mask_generator_1/RaggedGather/sub_1' with dtype int64\n",
      "\t [[{{node masked_lm_mask_generator_1/RaggedGather/cond/cond/range/masked_lm_mask_generator_1/RaggedGather/sub_1}}]]\n",
      "2023-04-25 08:50:19.291273: I tensorflow/core/common_runtime/executor.cc:1197] [/device:CPU:0] (DEBUG INFO) Executor start aborting (this does not indicate an error and you can ignore this message): INVALID_ARGUMENT: You must feed a value for placeholder tensor 'masked_lm_mask_generator_1/RaggedGather/cond/cond/range/masked_lm_mask_generator_1/RaggedGather/sub_1' with dtype int64\n",
      "\t [[{{node masked_lm_mask_generator_1/RaggedGather/cond/cond/range/masked_lm_mask_generator_1/RaggedGather/sub_1}}]]\n",
      "2023-04-25 08:50:19.293604: I tensorflow/core/common_runtime/executor.cc:1197] [/device:CPU:0] (DEBUG INFO) Executor start aborting (this does not indicate an error and you can ignore this message): INVALID_ARGUMENT: You must feed a value for placeholder tensor 'masked_lm_mask_generator_1/RaggedGather/cond/cond/range_1/masked_lm_mask_generator_1/RaggedGather/strided_slice' with dtype int64\n",
      "\t [[{{node masked_lm_mask_generator_1/RaggedGather/cond/cond/range_1/masked_lm_mask_generator_1/RaggedGather/strided_slice}}]]\n",
      "2023-04-25 08:50:19.763842: I tensorflow/core/common_runtime/executor.cc:1197] [/device:CPU:0] (DEBUG INFO) Executor start aborting (this does not indicate an error and you can ignore this message): INVALID_ARGUMENT: You must feed a value for placeholder tensor 'masked_lm_mask_generator_1/RaggedGather_1/cond/zeros/Reshape/masked_lm_mask_generator_1/RaggedGather_1/strided_slice' with dtype int64\n",
      "\t [[{{node masked_lm_mask_generator_1/RaggedGather_1/cond/zeros/Reshape/masked_lm_mask_generator_1/RaggedGather_1/strided_slice}}]]\n",
      "2023-04-25 08:50:19.771341: I tensorflow/core/common_runtime/executor.cc:1197] [/device:CPU:0] (DEBUG INFO) Executor start aborting (this does not indicate an error and you can ignore this message): INVALID_ARGUMENT: You must feed a value for placeholder tensor 'masked_lm_mask_generator_1/RaggedGather_1/cond/cond/range/masked_lm_mask_generator_1/RaggedGather_1/sub_1' with dtype int64\n",
      "\t [[{{node masked_lm_mask_generator_1/RaggedGather_1/cond/cond/range/masked_lm_mask_generator_1/RaggedGather_1/sub_1}}]]\n",
      "2023-04-25 08:50:19.778633: I tensorflow/core/common_runtime/executor.cc:1197] [/device:CPU:0] (DEBUG INFO) Executor start aborting (this does not indicate an error and you can ignore this message): INVALID_ARGUMENT: You must feed a value for placeholder tensor 'masked_lm_mask_generator_1/RaggedGather_1/cond/cond/range/masked_lm_mask_generator_1/RaggedGather_1/sub_1' with dtype int64\n",
      "\t [[{{node masked_lm_mask_generator_1/RaggedGather_1/cond/cond/range/masked_lm_mask_generator_1/RaggedGather_1/sub_1}}]]\n",
      "2023-04-25 08:50:19.780941: I tensorflow/core/common_runtime/executor.cc:1197] [/device:CPU:0] (DEBUG INFO) Executor start aborting (this does not indicate an error and you can ignore this message): INVALID_ARGUMENT: You must feed a value for placeholder tensor 'masked_lm_mask_generator_1/RaggedGather_1/cond/cond/range_1/masked_lm_mask_generator_1/RaggedGather_1/strided_slice' with dtype int64\n",
      "\t [[{{node masked_lm_mask_generator_1/RaggedGather_1/cond/cond/range_1/masked_lm_mask_generator_1/RaggedGather_1/strided_slice}}]]\n"
     ]
    },
    {
     "data": {
      "text/plain": [
       "({'token_ids': <tf.Tensor: shape=(32, 600), dtype=int32, numpy=\n",
       "  array([[15, 20, 10, ...,  0,  0,  0],\n",
       "         [21, 15, 24, ...,  0,  0,  0],\n",
       "         [21,  7, 13, ...,  0,  0,  0],\n",
       "         ...,\n",
       "         [ 4,  4, 21, ...,  0,  0,  0],\n",
       "         [15, 21, 14, ...,  0,  0,  0],\n",
       "         [15, 16, 12, ...,  0,  0,  0]], dtype=int32)>,\n",
       "  'mask_positions': <tf.Tensor: shape=(32, 32), dtype=int64, numpy=\n",
       "  array([[ 15,  26,  27, ..., 294, 306, 315],\n",
       "         [  4,   8,  11, ..., 161, 165, 166],\n",
       "         [  5,   6,   9, ...,   0,   0,   0],\n",
       "         ...,\n",
       "         [ 13,  28,  75, ..., 432, 439, 448],\n",
       "         [ 12,  16,  36, ..., 202, 205, 214],\n",
       "         [ 35,  40,  46, ..., 155, 164, 167]])>},\n",
       " <tf.Tensor: shape=(32, 32), dtype=int32, numpy=\n",
       " array([[ 9, 12, 21, ..., 11, 14, 13],\n",
       "        [21, 27, 14, ...,  7, 21, 21],\n",
       "        [11, 14,  7, ...,  0,  0,  0],\n",
       "        ...,\n",
       "        [26, 12, 12, ..., 10, 26, 26],\n",
       "        [19, 21, 12, ...,  4, 19, 25],\n",
       "        [21,  4,  7, ..., 10, 14, 11]], dtype=int32)>,\n",
       " <tf.Tensor: shape=(32, 32), dtype=float32, numpy=\n",
       " array([[1., 1., 1., ..., 1., 1., 1.],\n",
       "        [1., 1., 1., ..., 1., 1., 1.],\n",
       "        [1., 1., 1., ..., 0., 0., 0.],\n",
       "        ...,\n",
       "        [1., 1., 1., ..., 1., 1., 1.],\n",
       "        [1., 1., 1., ..., 1., 1., 1.],\n",
       "        [1., 1., 1., ..., 1., 1., 1.]], dtype=float32)>)"
      ]
     },
     "execution_count": 21,
     "metadata": {},
     "output_type": "execute_result"
    }
   ],
   "source": [
    "tokenizer = keras_nlp.tokenizers.WordPieceTokenizer(\n",
    "    vocabulary = AA_VOCAB,\n",
    "    sequence_length = MAX_SEQUENCE_LENGTH,\n",
    "    oov_token = 'X'\n",
    ")\n",
    "masker = keras_nlp.layers.MaskedLMMaskGenerator(\n",
    "    vocabulary_size=tokenizer.vocabulary_size(),\n",
    "    mask_selection_rate=MASK_RATE,\n",
    "    mask_selection_length=PREDICTIONS_PER_SEQ,\n",
    "    mask_token_id=tokenizer.token_to_id(\"<MASK>\"),\n",
    ")\n",
    "\n",
    "def preprocess(ds_prelim_train):\n",
    "    inputs = tokenizer(ds_prelim_train)\n",
    "    outputs = masker(inputs)\n",
    "    features = {\n",
    "        \"token_ids\": outputs[\"token_ids\"],\n",
    "        \"mask_positions\": outputs[\"mask_positions\"],\n",
    "    }\n",
    "    labels = outputs[\"mask_ids\"]\n",
    "    weights = outputs[\"mask_weights\"]\n",
    "    return features, labels, weights\n",
    "\n",
    "ds_prelim_train = ds_prelim_train.map(preprocess)\n",
    "ds_prelim_train.take(1).get_single_element()"
   ]
  },
  {
   "cell_type": "code",
   "execution_count": null,
   "metadata": {},
   "outputs": [],
   "source": []
  }
 ],
 "metadata": {
  "kernelspec": {
   "display_name": "env",
   "language": "python",
   "name": "python3"
  },
  "language_info": {
   "codemirror_mode": {
    "name": "ipython",
    "version": 3
   },
   "file_extension": ".py",
   "mimetype": "text/x-python",
   "name": "python",
   "nbconvert_exporter": "python",
   "pygments_lexer": "ipython3",
   "version": "3.10.6"
  },
  "orig_nbformat": 4
 },
 "nbformat": 4,
 "nbformat_minor": 2
}
