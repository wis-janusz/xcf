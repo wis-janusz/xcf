{
 "cells": [
  {
   "cell_type": "code",
   "execution_count": 1,
   "id": "00a7e602",
   "metadata": {},
   "outputs": [],
   "source": [
    "import requests\n",
    "import json"
   ]
  },
  {
   "cell_type": "code",
   "execution_count": 9,
   "id": "b77e1950",
   "metadata": {},
   "outputs": [],
   "source": [
    "PDB_search_endpoint = 'https://search.rcsb.org/rcsbsearch/v2/query'\n",
    "PDB_report_endpoint = 'https://data.rcsb.org/graphql'\n",
    "with open('PDBsearch_test.json', 'r') as file_in:\n",
    "    search_query = file_in.read()\n"
   ]
  },
  {
   "cell_type": "code",
   "execution_count": 10,
   "id": "6d590524",
   "metadata": {},
   "outputs": [
    {
     "data": {
      "text/plain": [
       "<Response [200]>"
      ]
     },
     "execution_count": 10,
     "metadata": {},
     "output_type": "execute_result"
    }
   ],
   "source": [
    "search_response = requests.get(url = PDB_search_endpoint, params = {'json' : search_query})\n",
    "search_response"
   ]
  },
  {
   "cell_type": "code",
   "execution_count": 12,
   "id": "847418c8",
   "metadata": {},
   "outputs": [
    {
     "data": {
      "text/plain": [
       "[{'identifier': '2GQ1', 'score': 1.0},\n",
       " {'identifier': '5ET5', 'score': 0.9688077621588106},\n",
       " {'identifier': '5ET7', 'score': 0.9688077621588106},\n",
       " {'identifier': '1LBV', 'score': 0.9660815181231529},\n",
       " {'identifier': '1LBW', 'score': 0.9660815181231529},\n",
       " {'identifier': '1LBX', 'score': 0.9598129612144489},\n",
       " {'identifier': '1LBZ', 'score': 0.9598129612144489},\n",
       " {'identifier': '2Q8M', 'score': 0.9580540617582306},\n",
       " {'identifier': '5ET6', 'score': 0.947467311453697},\n",
       " {'identifier': '5IZ1', 'score': 0.947416187543281},\n",
       " {'identifier': '5ET8', 'score': 0.9401033723646012},\n",
       " {'identifier': '5K54', 'score': 0.9401033723646012},\n",
       " {'identifier': '5K55', 'score': 0.9401033723646012},\n",
       " {'identifier': '5K56', 'score': 0.9401033723646012},\n",
       " {'identifier': '5L0A', 'score': 0.9401033723646012},\n",
       " {'identifier': '2OX3', 'score': 0.9328692023457946},\n",
       " {'identifier': '6LW2', 'score': 0.9204592148296886},\n",
       " {'identifier': '5IZ3', 'score': 0.9203518637308116},\n",
       " {'identifier': '1LBY', 'score': 0.9116542376026112},\n",
       " {'identifier': '2VT5', 'score': 0.9067151757546176},\n",
       " {'identifier': '3A29', 'score': 0.9067151757546176},\n",
       " {'identifier': '2QVR', 'score': 0.900140877813034},\n",
       " {'identifier': '5LDZ', 'score': 0.8969079511714712},\n",
       " {'identifier': '1DK4', 'score': 0.8943904858858366},\n",
       " {'identifier': '7EZF', 'score': 0.8888270926470057},\n",
       " {'identifier': '7EZP', 'score': 0.8888270926470057},\n",
       " {'identifier': '7EZR', 'score': 0.8888270926470057},\n",
       " {'identifier': '6LS5', 'score': 0.8872462611425748},\n",
       " {'identifier': '2JJK', 'score': 0.8777076876965161},\n",
       " {'identifier': '3KBZ', 'score': 0.8777076876965161},\n",
       " {'identifier': '3KC0', 'score': 0.8777076876965161},\n",
       " {'identifier': '3KC1', 'score': 0.8777076876965161},\n",
       " {'identifier': '2OWZ', 'score': 0.8776808954867794},\n",
       " {'identifier': '6B63', 'score': 0.866645876883964},\n",
       " {'identifier': '6B64', 'score': 0.866645876883964},\n",
       " {'identifier': '5A5L', 'score': 0.8559028386892996},\n",
       " {'identifier': '6B60', 'score': 0.8559028386892996},\n",
       " {'identifier': '1CNQ', 'score': 0.8517593414365491},\n",
       " {'identifier': '1FJ6', 'score': 0.8391874159724766},\n",
       " {'identifier': '2F3B', 'score': 0.8391874159724766},\n",
       " {'identifier': '2FIE', 'score': 0.8391874159724766},\n",
       " {'identifier': '2FIX', 'score': 0.8391874159724766},\n",
       " {'identifier': '2QVU', 'score': 0.8391874159724766},\n",
       " {'identifier': '2QVV', 'score': 0.8391874159724766},\n",
       " {'identifier': '1D9Q', 'score': 0.8349521508448796},\n",
       " {'identifier': '1DBZ', 'score': 0.8349521508448796},\n",
       " {'identifier': '1FJ9', 'score': 0.8268645487029973},\n",
       " {'identifier': '2F3D', 'score': 0.8268645487029973},\n",
       " {'identifier': '4KXP', 'score': 0.8268645487029973},\n",
       " {'identifier': '6B5Z', 'score': 0.7950719466517894},\n",
       " {'identifier': '2FHY', 'score': 0.7855571581266194},\n",
       " {'identifier': '4MJO', 'score': 0.7855571581266194},\n",
       " {'identifier': '4N81', 'score': 0.7853838289330166},\n",
       " {'identifier': '7B2O', 'score': 0.7853838289330166},\n",
       " {'identifier': '6B61', 'score': 0.7713107195540027},\n",
       " {'identifier': '3LG2', 'score': 0.7575663159590713},\n",
       " {'identifier': '3LL4', 'score': 0.7575663159590713},\n",
       " {'identifier': '5ZWK', 'score': 0.7575663159590713},\n",
       " {'identifier': '1DCU', 'score': 0.7441393180325514},\n",
       " {'identifier': '5Q0C', 'score': 0.7441393180325514},\n",
       " {'identifier': '2Y5K', 'score': 0.7057573815955198},\n",
       " {'identifier': '2Y5L', 'score': 0.7057573815955198},\n",
       " {'identifier': '7WJV', 'score': 0.6976506421609685},\n",
       " {'identifier': '4IR8', 'score': 0.6143473741219514},\n",
       " {'identifier': '7K74', 'score': 0.604009499752081},\n",
       " {'identifier': '7CVN', 'score': 0.5941233566191658},\n",
       " {'identifier': '7CWE', 'score': 0.5941233566191658},\n",
       " {'identifier': '3QMF', 'score': 0.5938791283127223},\n",
       " {'identifier': '3RYD', 'score': 0.5839501540962144},\n",
       " {'identifier': '1EYI', 'score': 0.5744513133149354},\n",
       " {'identifier': '4H46', 'score': 0.5744513133149354},\n",
       " {'identifier': '7C9Q', 'score': 0.5744513133149354},\n",
       " {'identifier': '2R8T', 'score': 0.5742165625248614},\n",
       " {'identifier': '1EYJ', 'score': 0.5555387471397721},\n",
       " {'identifier': '1EYK', 'score': 0.5555387471397721},\n",
       " {'identifier': '7CVH', 'score': 0.5555387471397721},\n",
       " {'identifier': '1YYZ', 'score': 0.5373424624902229},\n",
       " {'identifier': '4D4K', 'score': 0.5371252086534464},\n",
       " {'identifier': '4D4L', 'score': 0.5371252086534464},\n",
       " {'identifier': '4D4M', 'score': 0.5371252086534464},\n",
       " {'identifier': '4GBV', 'score': 0.5198227267015081},\n",
       " {'identifier': '4GBW', 'score': 0.5198227267015081},\n",
       " {'identifier': '1UMG', 'score': 0.5196134011716944},\n",
       " {'identifier': '3BIG', 'score': 0.5196134011716944},\n",
       " {'identifier': '3BIH', 'score': 0.5196134011716944},\n",
       " {'identifier': '5AJW', 'score': 0.5027405970051595},\n",
       " {'identifier': '5AJX', 'score': 0.5027405970051595},\n",
       " {'identifier': '5AJY', 'score': 0.5027405970051595},\n",
       " {'identifier': '5AJZ', 'score': 0.5027405970051595},\n",
       " {'identifier': '5AK0', 'score': 0.5027405970051595},\n",
       " {'identifier': '3D1R', 'score': 0.48647225789707216},\n",
       " {'identifier': '5DJJ', 'score': 0.48647225789707216},\n",
       " {'identifier': '5DJK', 'score': 0.48647225789707216},\n",
       " {'identifier': '6IBY', 'score': 0.48647225789707216},\n",
       " {'identifier': '6IBZ', 'score': 0.48647225789707216},\n",
       " {'identifier': '3QPU', 'score': 0.47077676174954586},\n",
       " {'identifier': '4HE0', 'score': 0.47077676174954586},\n",
       " {'identifier': '5DJG', 'score': 0.47077676174954586},\n",
       " {'identifier': '6HVH', 'score': 0.47077676174954586},\n",
       " {'identifier': '6IBX', 'score': 0.47077676174954586},\n",
       " {'identifier': '6IC0', 'score': 0.47077676174954586},\n",
       " {'identifier': '7NS5', 'score': 0.47077676174954586},\n",
       " {'identifier': '5O0V', 'score': 0.4608609102480111},\n",
       " {'identifier': '6B62', 'score': 0.4608609102480111},\n",
       " {'identifier': '6B65', 'score': 0.4608609102480111},\n",
       " {'identifier': '6B66', 'score': 0.4608609102480111},\n",
       " {'identifier': '3QPV', 'score': 0.45562421793403085},\n",
       " {'identifier': '3QPW', 'score': 0.45562421793403085},\n",
       " {'identifier': '4HE1', 'score': 0.45562421793403085},\n",
       " {'identifier': '5HR5', 'score': 0.45562421793403085},\n",
       " {'identifier': '6ETJ', 'score': 0.45562421793403085},\n",
       " {'identifier': '6HVI', 'score': 0.45562421793403085},\n",
       " {'identifier': '5DJH', 'score': 0.44098692294113945},\n",
       " {'identifier': '5DJI', 'score': 0.44098692294113945},\n",
       " {'identifier': '4HE2', 'score': 0.4131563783821861},\n",
       " {'identifier': '4GWU', 'score': 0.36264814201037626},\n",
       " {'identifier': '4GWW', 'score': 0.36264814201037626},\n",
       " {'identifier': '4GWX', 'score': 0.36264814201037626},\n",
       " {'identifier': '4GX3', 'score': 0.36264814201037626},\n",
       " {'identifier': '4H45', 'score': 0.36264814201037626},\n",
       " {'identifier': '1Q9D', 'score': 0.3180117738092298},\n",
       " {'identifier': '1YXI', 'score': 0.3180117738092298},\n",
       " {'identifier': '2WBB', 'score': 0.3180117738092298},\n",
       " {'identifier': '2WBD', 'score': 0.3180117738092298},\n",
       " {'identifier': '4GWS', 'score': 0.3180117738092298},\n",
       " {'identifier': '4GWY', 'score': 0.3180117738092298},\n",
       " {'identifier': '4GWZ', 'score': 0.3180117738092298},\n",
       " {'identifier': '4GX4', 'score': 0.3180117738092298},\n",
       " {'identifier': '4GX6', 'score': 0.3180117738092298},\n",
       " {'identifier': '3F3K', 'score': 0.30777614726019126},\n",
       " {'identifier': '4MA4', 'score': 0.2975845364842916},\n",
       " {'identifier': '1YZ0', 'score': 0.27827956467944714},\n",
       " {'identifier': '1LEV', 'score': 0.26000663972925653},\n",
       " {'identifier': '1KZ8', 'score': 0.2262430787930638},\n",
       " {'identifier': '3ROJ', 'score': 0.06070403912610373},\n",
       " {'identifier': '3RPL', 'score': 0.06070403912610373},\n",
       " {'identifier': '5DJF', 'score': 0.06070403912610373},\n",
       " {'identifier': '6AYU', 'score': 0.06070403912610373},\n",
       " {'identifier': '6AYV', 'score': 0.06070403912610373},\n",
       " {'identifier': '7JS3', 'score': 0.06070403912610373},\n",
       " {'identifier': '3IFA', 'score': 0.02823716646318864},\n",
       " {'identifier': '3IFC', 'score': 0.02823716646318864},\n",
       " {'identifier': '6AYY', 'score': 0.02823716646318864},\n",
       " {'identifier': '5HTK', 'score': 0.0}]"
      ]
     },
     "execution_count": 12,
     "metadata": {},
     "output_type": "execute_result"
    }
   ],
   "source": [
    "result_set = search_response.json()['result_set']\n",
    "result_set"
   ]
  },
  {
   "cell_type": "code",
   "execution_count": 6,
   "id": "9959b7a1",
   "metadata": {},
   "outputs": [],
   "source": [
    "ids_list = []\n",
    "for item in result_set:\n",
    "    add_quotes = '\"{}\"'.format(item['identifier'])\n",
    "    ids_list.append(add_quotes)"
   ]
  },
  {
   "cell_type": "code",
   "execution_count": 7,
   "id": "eec8dc15",
   "metadata": {},
   "outputs": [],
   "source": [
    "n_batches = len(ids_list)//5000\n",
    "insert_ids = report_query_empty.find('[')+1\n",
    "report_query = []\n",
    "for i in range(n_batches+1):\n",
    "    report_query.append(report_query_empty[:insert_ids] + ','.join(ids_list[5000*i:5000*i+5000]) + report_query_empty[insert_ids:])"
   ]
  },
  {
   "cell_type": "code",
   "execution_count": 8,
   "id": "bca54162",
   "metadata": {},
   "outputs": [
    {
     "name": "stdout",
     "output_type": "stream",
     "text": [
      "Batch 1 ready.\n",
      "Batch 2 ready.\n",
      "Batch 3 ready.\n",
      "Batch 4 ready.\n",
      "Batch 5 ready.\n",
      "Batch 6 ready.\n",
      "Batch 7 ready.\n",
      "Batch 8 ready.\n",
      "Batch 9 ready.\n",
      "Batch 10 ready.\n",
      "Batch 11 ready.\n",
      "Batch 12 ready.\n",
      "Batch 13 ready.\n",
      "Batch 14 ready.\n",
      "Batch 15 ready.\n",
      "Batch 16 ready.\n",
      "Batch 17 ready.\n",
      "Batch 18 ready.\n",
      "Batch 19 ready.\n",
      "Batch 20 ready.\n",
      "Batch 21 ready.\n",
      "Batch 22 ready.\n",
      "Batch 23 ready.\n",
      "Batch 24 ready.\n"
     ]
    }
   ],
   "source": [
    "report_response = []\n",
    "for batch in report_query:\n",
    "    report_response.append(requests.get(url = PDB_report_endpoint, params = {'query' : batch}))\n",
    "    print('Batch {} ready.'.format(len(report_response)))"
   ]
  },
  {
   "cell_type": "code",
   "execution_count": 16,
   "id": "e4446424",
   "metadata": {},
   "outputs": [],
   "source": [
    "out_file_name = 'batch {}.json'\n",
    "for i in range(len(report_response)):\n",
    "    with open(out_file_name.format(i+1), 'w') as file_out:\n",
    "        json.dump(report_response[i].json(), file_out)\n",
    "    "
   ]
  }
 ],
 "metadata": {
  "kernelspec": {
   "display_name": "Python 3.10.6 ('env': venv)",
   "language": "python",
   "name": "python3"
  },
  "language_info": {
   "codemirror_mode": {
    "name": "ipython",
    "version": 3
   },
   "file_extension": ".py",
   "mimetype": "text/x-python",
   "name": "python",
   "nbconvert_exporter": "python",
   "pygments_lexer": "ipython3",
   "version": "3.10.6"
  },
  "vscode": {
   "interpreter": {
    "hash": "a50a966cad87a28e32f75bc0dced036e64feff3efd79912889ecc2f26bfac229"
   }
  }
 },
 "nbformat": 4,
 "nbformat_minor": 5
}
