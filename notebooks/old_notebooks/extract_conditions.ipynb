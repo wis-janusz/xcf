{
 "cells": [
  {
   "cell_type": "code",
   "execution_count": 32,
   "id": "d9176149-a4b3-4498-9bb5-da10a3e10ee1",
   "metadata": {},
   "outputs": [],
   "source": [
    "import pandas as pd\n",
    "import csv\n",
    "from thefuzz import fuzz\n",
    "import string_manip\n",
    "import spacy\n",
    "from chemdataextractor import Document\n",
    "nlp = spacy.load('en_core_web_sm')"
   ]
  },
  {
   "cell_type": "code",
   "execution_count": 33,
   "id": "073c5ccb-9401-4db7-8d12-df4dde83c6ea",
   "metadata": {},
   "outputs": [],
   "source": [
    "data_proc = pd.read_csv('data_temp1.csv').set_index('rcsb_id')\n",
    "data_proc['conditions'] = data_proc['conditions'].astype('str')"
   ]
  },
  {
   "cell_type": "code",
   "execution_count": 34,
   "id": "0ed36610",
   "metadata": {},
   "outputs": [],
   "source": [
    "data_proc['conditions_joint'] = data_proc['conditions'].apply(lambda s: string_manip.remove_nonalnum(s))\n",
    "data_proc['conditions_alnum'] = data_proc['conditions'].apply(lambda s: string_manip.remove_symbols(s))\n",
    "data_proc['conditions_alnum'] = data_proc['conditions_alnum'].apply(lambda s: s.split(\" \"))\n",
    "data_proc['conditions_doc'] = data_proc['conditions'].apply(lambda txt: Document(txt))\n"
   ]
  },
  {
   "cell_type": "code",
   "execution_count": 50,
   "id": "f1343e5a",
   "metadata": {},
   "outputs": [],
   "source": [
    "words_all = []\n",
    "cems = []\n",
    "for i, doc in data_proc['conditions_doc'].iteritems():\n",
    "    words_all.append(doc[0].raw_tokens)\n",
    "    for cem in doc.cems:\n",
    "        cems.append(cem.text)"
   ]
  },
  {
   "cell_type": "code",
   "execution_count": 51,
   "id": "a467e3d4",
   "metadata": {},
   "outputs": [],
   "source": [
    "words_all = [word for sublist in words_all for word in sublist]\n",
    "words_all = [word for sublist in words_all for word in sublist]\n",
    "words_all = set(words_all)\n",
    "cems = set(cems)\n",
    "not_cems = list(words_all - cems)"
   ]
  },
  {
   "cell_type": "code",
   "execution_count": 35,
   "id": "38823c2c",
   "metadata": {},
   "outputs": [
    {
     "ename": "AttributeError",
     "evalue": "'Paragraph' object has no attribute 'pos_'",
     "output_type": "error",
     "traceback": [
      "\u001b[0;31m---------------------------------------------------------------------------\u001b[0m",
      "\u001b[0;31mAttributeError\u001b[0m                            Traceback (most recent call last)",
      "\u001b[1;32m/home/janusz/repos/xcf/notebooks/extract_conditions.ipynb Cell 4'\u001b[0m in \u001b[0;36m<cell line: 1>\u001b[0;34m()\u001b[0m\n\u001b[0;32m----> <a href='vscode-notebook-cell://wsl%2Bubuntu-20.04f/home/janusz/repos/xcf/notebooks/extract_conditions.ipynb#ch0000004vscode-remote?line=0'>1</a>\u001b[0m data_proc[\u001b[39m'\u001b[39m\u001b[39mtrash\u001b[39m\u001b[39m'\u001b[39m] \u001b[39m=\u001b[39m [[word\u001b[39m.\u001b[39mtext \u001b[39mfor\u001b[39;00m word \u001b[39min\u001b[39;00m condition \u001b[39mif\u001b[39;00m word\u001b[39m.\u001b[39mpos_ \u001b[39mnot\u001b[39;00m \u001b[39min\u001b[39;00m [\u001b[39m'\u001b[39m\u001b[39mNUM\u001b[39m\u001b[39m'\u001b[39m, \u001b[39m'\u001b[39m\u001b[39mPUNCT\u001b[39m\u001b[39m'\u001b[39m, \u001b[39m'\u001b[39m\u001b[39mSYM\u001b[39m\u001b[39m'\u001b[39m]] \u001b[39mfor\u001b[39;00m condition \u001b[39min\u001b[39;00m data_proc[\u001b[39m'\u001b[39m\u001b[39mconditions_doc\u001b[39m\u001b[39m'\u001b[39m]]\n",
      "\u001b[1;32m/home/janusz/repos/xcf/notebooks/extract_conditions.ipynb Cell 4'\u001b[0m in \u001b[0;36m<listcomp>\u001b[0;34m(.0)\u001b[0m\n\u001b[0;32m----> <a href='vscode-notebook-cell://wsl%2Bubuntu-20.04f/home/janusz/repos/xcf/notebooks/extract_conditions.ipynb#ch0000004vscode-remote?line=0'>1</a>\u001b[0m data_proc[\u001b[39m'\u001b[39m\u001b[39mtrash\u001b[39m\u001b[39m'\u001b[39m] \u001b[39m=\u001b[39m [[word\u001b[39m.\u001b[39mtext \u001b[39mfor\u001b[39;00m word \u001b[39min\u001b[39;00m condition \u001b[39mif\u001b[39;00m word\u001b[39m.\u001b[39mpos_ \u001b[39mnot\u001b[39;00m \u001b[39min\u001b[39;00m [\u001b[39m'\u001b[39m\u001b[39mNUM\u001b[39m\u001b[39m'\u001b[39m, \u001b[39m'\u001b[39m\u001b[39mPUNCT\u001b[39m\u001b[39m'\u001b[39m, \u001b[39m'\u001b[39m\u001b[39mSYM\u001b[39m\u001b[39m'\u001b[39m]] \u001b[39mfor\u001b[39;00m condition \u001b[39min\u001b[39;00m data_proc[\u001b[39m'\u001b[39m\u001b[39mconditions_doc\u001b[39m\u001b[39m'\u001b[39m]]\n",
      "\u001b[1;32m/home/janusz/repos/xcf/notebooks/extract_conditions.ipynb Cell 4'\u001b[0m in \u001b[0;36m<listcomp>\u001b[0;34m(.0)\u001b[0m\n\u001b[0;32m----> <a href='vscode-notebook-cell://wsl%2Bubuntu-20.04f/home/janusz/repos/xcf/notebooks/extract_conditions.ipynb#ch0000004vscode-remote?line=0'>1</a>\u001b[0m data_proc[\u001b[39m'\u001b[39m\u001b[39mtrash\u001b[39m\u001b[39m'\u001b[39m] \u001b[39m=\u001b[39m [[word\u001b[39m.\u001b[39mtext \u001b[39mfor\u001b[39;00m word \u001b[39min\u001b[39;00m condition \u001b[39mif\u001b[39;00m word\u001b[39m.\u001b[39;49mpos_ \u001b[39mnot\u001b[39;00m \u001b[39min\u001b[39;00m [\u001b[39m'\u001b[39m\u001b[39mNUM\u001b[39m\u001b[39m'\u001b[39m, \u001b[39m'\u001b[39m\u001b[39mPUNCT\u001b[39m\u001b[39m'\u001b[39m, \u001b[39m'\u001b[39m\u001b[39mSYM\u001b[39m\u001b[39m'\u001b[39m]] \u001b[39mfor\u001b[39;00m condition \u001b[39min\u001b[39;00m data_proc[\u001b[39m'\u001b[39m\u001b[39mconditions_doc\u001b[39m\u001b[39m'\u001b[39m]]\n",
      "\u001b[0;31mAttributeError\u001b[0m: 'Paragraph' object has no attribute 'pos_'"
     ]
    }
   ],
   "source": [
    "data_proc['trash'] = [[word.text for word in condition if word.pos_ not in ['NUM', 'PUNCT', 'SYM']] for condition in data_proc['conditions_doc']]"
   ]
  },
  {
   "cell_type": "code",
   "execution_count": null,
   "id": "90bb3abc",
   "metadata": {},
   "outputs": [],
   "source": [
    "corpus = []\n",
    "for i, row in data_proc['conditions_doc'].iteritems():\n",
    "    for word in row:\n",
    "        if word.pos_ not in ['NUM', 'PUNCT', 'SYM']:\n",
    "            corpus.append(word.text) \n",
    "\n",
    "corpus = list(set(corpus))"
   ]
  }
 ],
 "metadata": {
  "interpreter": {
   "hash": "4cf626fc45dea3f25557bd8b6791763f86db310429c35efaa0fb13565917c749"
  },
  "kernelspec": {
   "display_name": "Python 3.8.10 ('xcf_env': venv)",
   "language": "python",
   "name": "python3"
  },
  "language_info": {
   "codemirror_mode": {
    "name": "ipython",
    "version": 3
   },
   "file_extension": ".py",
   "mimetype": "text/x-python",
   "name": "python",
   "nbconvert_exporter": "python",
   "pygments_lexer": "ipython3",
   "version": "3.8.10"
  }
 },
 "nbformat": 4,
 "nbformat_minor": 5
}
