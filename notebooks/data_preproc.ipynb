{
 "cells": [
  {
   "cell_type": "code",
   "execution_count": 1,
   "id": "963a19df-2422-4691-a42c-7cb9e1eaead2",
   "metadata": {},
   "outputs": [],
   "source": [
    "import pandas as pd"
   ]
  },
  {
   "cell_type": "code",
   "execution_count": 2,
   "id": "bb347782-7f5f-4f35-a81e-f36c73b8e820",
   "metadata": {},
   "outputs": [],
   "source": [
    "data_raw = pd.read_csv('data_raw.csv').drop('Unnamed: 0', axis=1)"
   ]
  },
  {
   "cell_type": "code",
   "execution_count": 6,
   "id": "2cea97c8-7bdd-47b7-908b-7de1672420f7",
   "metadata": {},
   "outputs": [],
   "source": [
    "data_proc = data_raw.drop(['method','temp'], axis=1)\n",
    "data_proc['pH'] = data_proc['pH'].fillna(7.0)\n",
    "data_proc = data_proc.dropna(axis=0)\n",
    "data_proc['conditions'] = data_proc['conditions'].apply(lambda s: s.casefold())\n",
    "data_proc = data_proc[data_proc.duplicated(['sequence', 'conditions']) == False]\n",
    "data_proc['length'] = data_proc['conditions'].apply(lambda s: len(s))\n",
    "data_proc = data_proc[data_proc['length'] > 7].drop('length', axis=1)"
   ]
  },
  {
   "cell_type": "code",
   "execution_count": 7,
   "id": "3949784c-3353-4649-a47d-c22e4c6ceb59",
   "metadata": {},
   "outputs": [],
   "source": [
    "data_out = data_proc.set_index('rcsb_id')\n",
    "data_out.to_csv('data_temp1.csv')"
   ]
  },
  {
   "cell_type": "code",
   "execution_count": null,
   "id": "1e880eaf-12c2-4d6c-b706-cdec959c42ed",
   "metadata": {},
   "outputs": [],
   "source": []
  }
 ],
 "metadata": {
  "interpreter": {
   "hash": "4cf626fc45dea3f25557bd8b6791763f86db310429c35efaa0fb13565917c749"
  },
  "kernelspec": {
   "display_name": "Python 3.8.10 ('xcf_env': venv)",
   "language": "python",
   "name": "python3"
  },
  "language_info": {
   "codemirror_mode": {
    "name": "ipython",
    "version": 3
   },
   "file_extension": ".py",
   "mimetype": "text/x-python",
   "name": "python",
   "nbconvert_exporter": "python",
   "pygments_lexer": "ipython3",
   "version": "3.8.10"
  }
 },
 "nbformat": 4,
 "nbformat_minor": 5
}
