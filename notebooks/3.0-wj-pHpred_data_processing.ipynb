{
 "cells": [
  {
   "cell_type": "markdown",
   "metadata": {},
   "source": [
    "This is a notebook used to prepare data for pH prediction model.\n",
    "Requires raw data containting rcsb id, sequence and pH downloaded using the load_data module.\n",
    "Also requires xcf folder to be added to PYTHONPATH"
   ]
  },
  {
   "cell_type": "code",
   "execution_count": 1,
   "metadata": {},
   "outputs": [],
   "source": [
    "import xcf\n",
    "import numpy as np\n",
    "import pandas as pd\n",
    "from datetime import date"
   ]
  },
  {
   "cell_type": "code",
   "execution_count": 2,
   "metadata": {},
   "outputs": [
    {
     "data": {
      "text/html": [
       "<div>\n",
       "<style scoped>\n",
       "    .dataframe tbody tr th:only-of-type {\n",
       "        vertical-align: middle;\n",
       "    }\n",
       "\n",
       "    .dataframe tbody tr th {\n",
       "        vertical-align: top;\n",
       "    }\n",
       "\n",
       "    .dataframe thead th {\n",
       "        text-align: right;\n",
       "    }\n",
       "</style>\n",
       "<table border=\"1\" class=\"dataframe\">\n",
       "  <thead>\n",
       "    <tr style=\"text-align: right;\">\n",
       "      <th></th>\n",
       "      <th>Unnamed: 0</th>\n",
       "      <th>matthews</th>\n",
       "      <th>percent_solvent</th>\n",
       "      <th>rcsb_id</th>\n",
       "      <th>method</th>\n",
       "      <th>pH</th>\n",
       "      <th>conditions</th>\n",
       "      <th>temp</th>\n",
       "      <th>resolution</th>\n",
       "      <th>organism</th>\n",
       "      <th>sequence</th>\n",
       "    </tr>\n",
       "  </thead>\n",
       "  <tbody>\n",
       "    <tr>\n",
       "      <th>0</th>\n",
       "      <td>0</td>\n",
       "      <td>3.09</td>\n",
       "      <td>60.20</td>\n",
       "      <td>101M</td>\n",
       "      <td>NaN</td>\n",
       "      <td>9.0</td>\n",
       "      <td>3.0 M AMMONIUM SULFATE, 20 MM TRIS, 1MM EDTA, ...</td>\n",
       "      <td>NaN</td>\n",
       "      <td>2.07</td>\n",
       "      <td>Physeter catodon</td>\n",
       "      <td>MVLSEGEWQLVLHVWAKVEADVAGHGQDILIRLFKSHPETLEKFDR...</td>\n",
       "    </tr>\n",
       "    <tr>\n",
       "      <th>1</th>\n",
       "      <td>1</td>\n",
       "      <td>2.75</td>\n",
       "      <td>55.28</td>\n",
       "      <td>102L</td>\n",
       "      <td>NaN</td>\n",
       "      <td>9.0</td>\n",
       "      <td>3.0 M AMMONIUM SULFATE, 20 MM TRIS, 1MM EDTA, ...</td>\n",
       "      <td>NaN</td>\n",
       "      <td>1.74</td>\n",
       "      <td>Escherichia virus T4</td>\n",
       "      <td>MNIFEMLRIDEGLRLKIYKDTEGYYTIGIGHLLTKSPSLNAAAKSE...</td>\n",
       "    </tr>\n",
       "    <tr>\n",
       "      <th>2</th>\n",
       "      <td>2</td>\n",
       "      <td>3.09</td>\n",
       "      <td>60.20</td>\n",
       "      <td>102M</td>\n",
       "      <td>NaN</td>\n",
       "      <td>9.0</td>\n",
       "      <td>3.0 M AMMONIUM SULFATE, 20 MM TRIS, 1MM EDTA, ...</td>\n",
       "      <td>NaN</td>\n",
       "      <td>1.84</td>\n",
       "      <td>Physeter catodon</td>\n",
       "      <td>MVLSEGEWQLVLHVWAKVEADVAGHGQDILIRLFKSHPETLEKFDR...</td>\n",
       "    </tr>\n",
       "    <tr>\n",
       "      <th>3</th>\n",
       "      <td>3</td>\n",
       "      <td>2.70</td>\n",
       "      <td>54.46</td>\n",
       "      <td>103L</td>\n",
       "      <td>NaN</td>\n",
       "      <td>7.0</td>\n",
       "      <td>3.0 M AMMONIUM SULFATE, UNBUFFERED, pH 7.0</td>\n",
       "      <td>NaN</td>\n",
       "      <td>1.90</td>\n",
       "      <td>Escherichia virus T4</td>\n",
       "      <td>MNIFEMLRIDEGLRLKIYKDTEGYYTIGIGHLLTKSPSLNSLDAAK...</td>\n",
       "    </tr>\n",
       "    <tr>\n",
       "      <th>4</th>\n",
       "      <td>4</td>\n",
       "      <td>3.09</td>\n",
       "      <td>60.30</td>\n",
       "      <td>103M</td>\n",
       "      <td>NaN</td>\n",
       "      <td>9.0</td>\n",
       "      <td>3.0 M AMMONIUM SULFATE, UNBUFFERED, pH 9.0</td>\n",
       "      <td>NaN</td>\n",
       "      <td>2.07</td>\n",
       "      <td>Physeter catodon</td>\n",
       "      <td>MVLSEGEWQLVLHVWAKVEADVAGHGQDILIRLFKSHPETLEKFDR...</td>\n",
       "    </tr>\n",
       "  </tbody>\n",
       "</table>\n",
       "</div>"
      ],
      "text/plain": [
       "   Unnamed: 0  matthews  percent_solvent rcsb_id method   pH  \\\n",
       "0           0      3.09            60.20    101M    NaN  9.0   \n",
       "1           1      2.75            55.28    102L    NaN  9.0   \n",
       "2           2      3.09            60.20    102M    NaN  9.0   \n",
       "3           3      2.70            54.46    103L    NaN  7.0   \n",
       "4           4      3.09            60.30    103M    NaN  9.0   \n",
       "\n",
       "                                          conditions  temp  resolution  \\\n",
       "0  3.0 M AMMONIUM SULFATE, 20 MM TRIS, 1MM EDTA, ...   NaN        2.07   \n",
       "1  3.0 M AMMONIUM SULFATE, 20 MM TRIS, 1MM EDTA, ...   NaN        1.74   \n",
       "2  3.0 M AMMONIUM SULFATE, 20 MM TRIS, 1MM EDTA, ...   NaN        1.84   \n",
       "3         3.0 M AMMONIUM SULFATE, UNBUFFERED, pH 7.0   NaN        1.90   \n",
       "4         3.0 M AMMONIUM SULFATE, UNBUFFERED, pH 9.0   NaN        2.07   \n",
       "\n",
       "               organism                                           sequence  \n",
       "0      Physeter catodon  MVLSEGEWQLVLHVWAKVEADVAGHGQDILIRLFKSHPETLEKFDR...  \n",
       "1  Escherichia virus T4  MNIFEMLRIDEGLRLKIYKDTEGYYTIGIGHLLTKSPSLNAAAKSE...  \n",
       "2      Physeter catodon  MVLSEGEWQLVLHVWAKVEADVAGHGQDILIRLFKSHPETLEKFDR...  \n",
       "3  Escherichia virus T4  MNIFEMLRIDEGLRLKIYKDTEGYYTIGIGHLLTKSPSLNSLDAAK...  \n",
       "4      Physeter catodon  MVLSEGEWQLVLHVWAKVEADVAGHGQDILIRLFKSHPETLEKFDR...  "
      ]
     },
     "execution_count": 2,
     "metadata": {},
     "output_type": "execute_result"
    }
   ],
   "source": [
    "#Paths to input raw data .csv file and output folder\n",
    "data_raw_filename = '../data/raw/data_raw_2022-11-06.csv'\n",
    "output_folder = '../data/interim/'\n",
    "\n",
    "data_raw = pd.read_csv(data_raw_filename)\n",
    "data_raw.head()"
   ]
  },
  {
   "cell_type": "markdown",
   "metadata": {},
   "source": [
    "One-hot encoding test for first 10 raw entries."
   ]
  },
  {
   "cell_type": "code",
   "execution_count": 3,
   "metadata": {},
   "outputs": [
    {
     "name": "stdout",
     "output_type": "stream",
     "text": [
      "Index             610\n",
      "pH                 80\n",
      "sequence         2154\n",
      "len_seq            80\n",
      "seq_one_hot    157360\n",
      "dtype: int64\n",
      "[[0 0 0 ... 0 0 0]\n",
      " [0 0 0 ... 0 0 0]\n",
      " [0 0 0 ... 0 0 0]\n",
      " ...\n",
      " [0 0 0 ... 0 0 1]\n",
      " [0 0 0 ... 0 0 1]\n",
      " [0 0 0 ... 0 0 1]]\n"
     ]
    }
   ],
   "source": [
    "data_clean_test = xcf.process_data(data_raw[0:10], mode = 'pHpred')\n",
    "print(data_clean_test.memory_usage(deep=True))\n",
    "print(data_clean_test['seq_one_hot'][0])"
   ]
  },
  {
   "cell_type": "markdown",
   "metadata": {},
   "source": [
    "Looks OK, running for the whole dataset. Took ~1min on my PC."
   ]
  },
  {
   "cell_type": "code",
   "execution_count": 4,
   "metadata": {},
   "outputs": [
    {
     "name": "stdout",
     "output_type": "stream",
     "text": [
      "Index             5226602\n",
      "pH                 685456\n",
      "sequence         29327594\n",
      "len_seq            685456\n",
      "seq_one_hot    1348291952\n",
      "dtype: int64\n"
     ]
    }
   ],
   "source": [
    "data_clean = xcf.process_data(data_raw, mode = 'pHpred')\n",
    "print(data_clean.memory_usage(deep=True))"
   ]
  },
  {
   "cell_type": "markdown",
   "metadata": {},
   "source": [
    "Save interim data. Numpy ndarrays are converted to a list of lists for saving as parquet. Crashes on full data set, borrowed the method of doing it in batches form loda_data.py. Still crashes. Maybe it's better to one hot encode each time before using the data???"
   ]
  },
  {
   "cell_type": "code",
   "execution_count": 6,
   "metadata": {},
   "outputs": [
    {
     "name": "stderr",
     "output_type": "stream",
     "text": [
      "/tmp/ipykernel_371/2796790584.py:8: SettingWithCopyWarning: \n",
      "A value is trying to be set on a copy of a slice from a DataFrame\n",
      "\n",
      "See the caveats in the documentation: https://pandas.pydata.org/pandas-docs/stable/user_guide/indexing.html#returning-a-view-versus-a-copy\n",
      "  data_for_saving['seq_one_hot'].iloc[batch_size*i:batch_size*i+batch_size]=data_for_saving['seq_one_hot'].iloc[batch_size*i:batch_size*i+batch_size].apply(lambda X: X.tolist())\n"
     ]
    },
    {
     "ename": "",
     "evalue": "",
     "output_type": "error",
     "traceback": [
      "\u001b[1;31mCanceled future for execute_request message before replies were done"
     ]
    },
    {
     "ename": "",
     "evalue": "",
     "output_type": "error",
     "traceback": [
      "\u001b[1;31mThe Kernel crashed while executing code in the the current cell or a previous cell. Please review the code in the cell(s) to identify a possible cause of the failure. Click <a href='https://aka.ms/vscodeJupyterKernelCrash'>here</a> for more info. View Jupyter <a href='command:jupyter.viewOutput'>log</a> for further details."
     ]
    }
   ],
   "source": [
    "today = date.today()\n",
    "today = today.isoformat()\n",
    "batch_size = 10000\n",
    "n_batches = len(data_clean)//batch_size\n",
    "data_for_saving = data_clean\n",
    "\n",
    "for i in range(n_batches+1):\n",
    "    data_for_saving['seq_one_hot'].iloc[batch_size*i:batch_size*i+batch_size]=data_for_saving['seq_one_hot'].iloc[batch_size*i:batch_size*i+batch_size].apply(lambda X: X.tolist())\n",
    "    \n",
    "with open(f'{output_folder}data_pHpred_interim_{today}.parquet', mode = 'wb') as out_file:\n",
    "    data_for_saving.to_parquet(out_file)"
   ]
  }
 ],
 "metadata": {
  "kernelspec": {
   "display_name": "Python 3.10.6 ('env': venv)",
   "language": "python",
   "name": "python3"
  },
  "language_info": {
   "codemirror_mode": {
    "name": "ipython",
    "version": 3
   },
   "file_extension": ".py",
   "mimetype": "text/x-python",
   "name": "python",
   "nbconvert_exporter": "python",
   "pygments_lexer": "ipython3",
   "version": "3.10.6"
  },
  "orig_nbformat": 4,
  "vscode": {
   "interpreter": {
    "hash": "a50a966cad87a28e32f75bc0dced036e64feff3efd79912889ecc2f26bfac229"
   }
  }
 },
 "nbformat": 4,
 "nbformat_minor": 2
}
