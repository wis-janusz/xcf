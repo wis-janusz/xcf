{
 "cells": [
  {
   "cell_type": "markdown",
   "metadata": {},
   "source": [
    "This is a notebook used to prepare data for pH prediction model.\n",
    "Requires raw data containting rcsb id, sequence and pH downloaded using the load_data module.\n",
    "Also requires xcf folder to be added to PYTHONPATH"
   ]
  },
  {
   "cell_type": "code",
   "execution_count": 1,
   "metadata": {},
   "outputs": [],
   "source": [
    "import xcf\n",
    "import numpy as np\n",
    "import pandas as pd\n",
    "from datetime import date"
   ]
  },
  {
   "cell_type": "code",
   "execution_count": 2,
   "metadata": {},
   "outputs": [
    {
     "data": {
      "text/plain": [
       "[('data_raw_2023-03-31',), ('data_raw_2023-04-07',)]"
      ]
     },
     "execution_count": 2,
     "metadata": {},
     "output_type": "execute_result"
    }
   ],
   "source": [
    "xcf.list_raw_data_tables()"
   ]
  },
  {
   "cell_type": "code",
   "execution_count": 3,
   "metadata": {},
   "outputs": [
    {
     "data": {
      "text/html": [
       "<div>\n",
       "<style scoped>\n",
       "    .dataframe tbody tr th:only-of-type {\n",
       "        vertical-align: middle;\n",
       "    }\n",
       "\n",
       "    .dataframe tbody tr th {\n",
       "        vertical-align: top;\n",
       "    }\n",
       "\n",
       "    .dataframe thead th {\n",
       "        text-align: right;\n",
       "    }\n",
       "</style>\n",
       "<table border=\"1\" class=\"dataframe\">\n",
       "  <thead>\n",
       "    <tr style=\"text-align: right;\">\n",
       "      <th></th>\n",
       "      <th>pH</th>\n",
       "      <th>sequence</th>\n",
       "      <th>len_seq</th>\n",
       "    </tr>\n",
       "    <tr>\n",
       "      <th>rcsb_id</th>\n",
       "      <th></th>\n",
       "      <th></th>\n",
       "      <th></th>\n",
       "    </tr>\n",
       "  </thead>\n",
       "  <tbody>\n",
       "    <tr>\n",
       "      <th>4BOB</th>\n",
       "      <td>7.5</td>\n",
       "      <td>GAMGDEQSSGEINHTLYDEQSNGELKLKKIEFSKFTVKIKNKDNNS...</td>\n",
       "      <td>164</td>\n",
       "    </tr>\n",
       "    <tr>\n",
       "      <th>4BOD</th>\n",
       "      <td>7.5</td>\n",
       "      <td>GAMGDGQSNGEAKVKKIEFSEFTVKIKNKNNSNNWADLGDLVVRKE...</td>\n",
       "      <td>157</td>\n",
       "    </tr>\n",
       "    <tr>\n",
       "      <th>4BOF</th>\n",
       "      <td>5.5</td>\n",
       "      <td>MTAQTPIHVYSEIGKLKKVLLHRPGKEIENLMPDYLERLLFDDIPF...</td>\n",
       "      <td>411</td>\n",
       "    </tr>\n",
       "    <tr>\n",
       "      <th>4BPD</th>\n",
       "      <td>5.6</td>\n",
       "      <td>GHHHHHHELANNTTGFTRIIKAAGYSWKGLRAAWINEAAFRQEGVA...</td>\n",
       "      <td>130</td>\n",
       "    </tr>\n",
       "    <tr>\n",
       "      <th>4BPM</th>\n",
       "      <td>6.7</td>\n",
       "      <td>MHHHHHHSPALPAFLLCSTLLVIKMYVVAIITGQVRLRKKAFANPE...</td>\n",
       "      <td>178</td>\n",
       "    </tr>\n",
       "  </tbody>\n",
       "</table>\n",
       "</div>"
      ],
      "text/plain": [
       "          pH                                           sequence  len_seq\n",
       "rcsb_id                                                                 \n",
       "4BOB     7.5  GAMGDEQSSGEINHTLYDEQSNGELKLKKIEFSKFTVKIKNKDNNS...      164\n",
       "4BOD     7.5  GAMGDGQSNGEAKVKKIEFSEFTVKIKNKNNSNNWADLGDLVVRKE...      157\n",
       "4BOF     5.5  MTAQTPIHVYSEIGKLKKVLLHRPGKEIENLMPDYLERLLFDDIPF...      411\n",
       "4BPD     5.6  GHHHHHHELANNTTGFTRIIKAAGYSWKGLRAAWINEAAFRQEGVA...      130\n",
       "4BPM     6.7  MHHHHHHSPALPAFLLCSTLLVIKMYVVAIITGQVRLRKKAFANPE...      178"
      ]
     },
     "execution_count": 3,
     "metadata": {},
     "output_type": "execute_result"
    }
   ],
   "source": [
    "data_clean = xcf.load_data_from_db('data_raw_2023-04-07', mode = 'pHpred')\n",
    "data_clean.head()"
   ]
  },
  {
   "cell_type": "code",
   "execution_count": 4,
   "metadata": {},
   "outputs": [],
   "source": [
    "xcf.save_data_to_db(data_clean, source_table_name='data_raw_2023-04-07')"
   ]
  },
  {
   "cell_type": "code",
   "execution_count": 5,
   "metadata": {},
   "outputs": [],
   "source": [
    "data_codetest = data_clean.sample(n=1000, random_state=14)\n",
    "xcf.save_data_to_db(data_codetest, custom_table_name='data_pHpred_codetest')"
   ]
  }
 ],
 "metadata": {
  "kernelspec": {
   "display_name": "Python 3.10.6 ('env': venv)",
   "language": "python",
   "name": "python3"
  },
  "language_info": {
   "codemirror_mode": {
    "name": "ipython",
    "version": 3
   },
   "file_extension": ".py",
   "mimetype": "text/x-python",
   "name": "python",
   "nbconvert_exporter": "python",
   "pygments_lexer": "ipython3",
   "version": "3.10.6"
  },
  "orig_nbformat": 4,
  "vscode": {
   "interpreter": {
    "hash": "a50a966cad87a28e32f75bc0dced036e64feff3efd79912889ecc2f26bfac229"
   }
  }
 },
 "nbformat": 4,
 "nbformat_minor": 2
}
