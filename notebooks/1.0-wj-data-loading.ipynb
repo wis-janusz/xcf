{
 "cells": [
  {
   "cell_type": "markdown",
   "metadata": {},
   "source": [
    "This is a notebook used to execute code that searches the PDB, downloads appropriate data and saves them as .csv with timestamp.\n",
    "Requires proper PDB search API and data API queries in .json format.\n",
    "Also requires xcf folder to be added to PYTHONPATH"
   ]
  },
  {
   "cell_type": "code",
   "execution_count": 1,
   "metadata": {},
   "outputs": [],
   "source": [
    "import xcf\n",
    "from datetime import date"
   ]
  },
  {
   "cell_type": "code",
   "execution_count": 2,
   "metadata": {},
   "outputs": [],
   "source": [
    "#Paths to serach and report .jsons, and folder to output .csv edit as required\n",
    "search_json = '../data/external/PDBsearch_monomerproteins_v1.0.json'\n",
    "report_json = '../data/external/PDBreport_v1.0.json'\n",
    "output_folder = '../data/raw/'"
   ]
  },
  {
   "cell_type": "code",
   "execution_count": 3,
   "metadata": {},
   "outputs": [],
   "source": [
    "ids_list = xcf.search_PDB(search_json)"
   ]
  },
  {
   "cell_type": "code",
   "execution_count": 4,
   "metadata": {},
   "outputs": [
    {
     "name": "stdout",
     "output_type": "stream",
     "text": [
      "Download split into 26 batches.\n",
      "Batch 1\n",
      "Batch 2\n",
      "Batch 3\n",
      "Batch 4\n",
      "Batch 5\n",
      "Batch 6\n",
      "Batch 7\n",
      "Batch 8\n",
      "Batch 9\n",
      "Batch 10\n",
      "Batch 11\n",
      "Batch 12\n",
      "Batch 13\n",
      "Batch 14\n",
      "Batch 15\n",
      "Batch 16\n",
      "Batch 17\n",
      "Batch 18\n",
      "Batch 19\n",
      "Batch 20\n",
      "Batch 21\n",
      "Batch 22\n",
      "Batch 23\n",
      "Batch 24\n",
      "Batch 25\n",
      "Batch 26\n"
     ]
    }
   ],
   "source": [
    "data_raw = xcf.report_from_PDB(ids_list, report_json, batch_size=5000)"
   ]
  },
  {
   "cell_type": "code",
   "execution_count": 5,
   "metadata": {},
   "outputs": [
    {
     "name": "stdout",
     "output_type": "stream",
     "text": [
      "94961522\n"
     ]
    },
    {
     "data": {
      "text/html": [
       "<div>\n",
       "<style scoped>\n",
       "    .dataframe tbody tr th:only-of-type {\n",
       "        vertical-align: middle;\n",
       "    }\n",
       "\n",
       "    .dataframe tbody tr th {\n",
       "        vertical-align: top;\n",
       "    }\n",
       "\n",
       "    .dataframe thead th {\n",
       "        text-align: right;\n",
       "    }\n",
       "</style>\n",
       "<table border=\"1\" class=\"dataframe\">\n",
       "  <thead>\n",
       "    <tr style=\"text-align: right;\">\n",
       "      <th></th>\n",
       "      <th>matthews</th>\n",
       "      <th>percent_solvent</th>\n",
       "      <th>rcsb_id</th>\n",
       "      <th>method</th>\n",
       "      <th>pH</th>\n",
       "      <th>conditions</th>\n",
       "      <th>temp</th>\n",
       "      <th>resolution</th>\n",
       "      <th>organism</th>\n",
       "      <th>sequence</th>\n",
       "    </tr>\n",
       "  </thead>\n",
       "  <tbody>\n",
       "    <tr>\n",
       "      <th>0</th>\n",
       "      <td>2.20</td>\n",
       "      <td>52.20</td>\n",
       "      <td>2TRH</td>\n",
       "      <td>None</td>\n",
       "      <td>6.5</td>\n",
       "      <td>PURIFIED PROTEIN (20MG/ML IN 100MM TRIS BUFFER...</td>\n",
       "      <td>NaN</td>\n",
       "      <td>1.90</td>\n",
       "      <td>Homo sapiens</td>\n",
       "      <td>GPTGTGESKRPLMVKVLDAVRGSPAINVAVHVFRKAADDTWEPFAS...</td>\n",
       "    </tr>\n",
       "    <tr>\n",
       "      <th>1</th>\n",
       "      <td>3.37</td>\n",
       "      <td>63.45</td>\n",
       "      <td>2TRM</td>\n",
       "      <td>None</td>\n",
       "      <td>NaN</td>\n",
       "      <td>THE CRYSTALS WERE GROWN AT PH 8 WHICH IS WITHI...</td>\n",
       "      <td>NaN</td>\n",
       "      <td>2.80</td>\n",
       "      <td>Rattus norvegicus</td>\n",
       "      <td>IVGGYTCQENSVPYQVSLNSGYHFCGGSLINDQWVVSAAHCYKSRI...</td>\n",
       "    </tr>\n",
       "    <tr>\n",
       "      <th>2</th>\n",
       "      <td>2.17</td>\n",
       "      <td>43.38</td>\n",
       "      <td>2TRT</td>\n",
       "      <td>None</td>\n",
       "      <td>6.5</td>\n",
       "      <td>PURIFIED PROTEIN (25MG/ML IN 100MM TRIS BUFFER...</td>\n",
       "      <td>NaN</td>\n",
       "      <td>2.50</td>\n",
       "      <td>Escherichia coli</td>\n",
       "      <td>ARLNRESVIDAALELLNETGIDGLTTRKLAQKLGIEQPTLYWHVKN...</td>\n",
       "    </tr>\n",
       "    <tr>\n",
       "      <th>3</th>\n",
       "      <td>2.71</td>\n",
       "      <td>54.58</td>\n",
       "      <td>2TRX</td>\n",
       "      <td>None</td>\n",
       "      <td>6.0</td>\n",
       "      <td>pH 6.0</td>\n",
       "      <td>NaN</td>\n",
       "      <td>1.68</td>\n",
       "      <td>Escherichia coli</td>\n",
       "      <td>SDKIIHLTDDSFDTDVLKADGAILVDFWAEWCGPCKMIAPILDEIA...</td>\n",
       "    </tr>\n",
       "    <tr>\n",
       "      <th>4</th>\n",
       "      <td>2.20</td>\n",
       "      <td>52.50</td>\n",
       "      <td>2TRY</td>\n",
       "      <td>None</td>\n",
       "      <td>4.5</td>\n",
       "      <td>50-100 MM CITRATE-PHOSPHATE OR ACETATE BUFFER,...</td>\n",
       "      <td>NaN</td>\n",
       "      <td>2.00</td>\n",
       "      <td>Homo sapiens</td>\n",
       "      <td>GPTGTGESKCPLMVKVLDAVRGSPAINVAVHVFRKAADDTWEPFAS...</td>\n",
       "    </tr>\n",
       "  </tbody>\n",
       "</table>\n",
       "</div>"
      ],
      "text/plain": [
       "   matthews  percent_solvent rcsb_id method   pH  \\\n",
       "0      2.20            52.20    2TRH   None  6.5   \n",
       "1      3.37            63.45    2TRM   None  NaN   \n",
       "2      2.17            43.38    2TRT   None  6.5   \n",
       "3      2.71            54.58    2TRX   None  6.0   \n",
       "4      2.20            52.50    2TRY   None  4.5   \n",
       "\n",
       "                                          conditions  temp  resolution  \\\n",
       "0  PURIFIED PROTEIN (20MG/ML IN 100MM TRIS BUFFER...   NaN        1.90   \n",
       "1  THE CRYSTALS WERE GROWN AT PH 8 WHICH IS WITHI...   NaN        2.80   \n",
       "2  PURIFIED PROTEIN (25MG/ML IN 100MM TRIS BUFFER...   NaN        2.50   \n",
       "3                                             pH 6.0   NaN        1.68   \n",
       "4  50-100 MM CITRATE-PHOSPHATE OR ACETATE BUFFER,...   NaN        2.00   \n",
       "\n",
       "            organism                                           sequence  \n",
       "0       Homo sapiens  GPTGTGESKRPLMVKVLDAVRGSPAINVAVHVFRKAADDTWEPFAS...  \n",
       "1  Rattus norvegicus  IVGGYTCQENSVPYQVSLNSGYHFCGGSLINDQWVVSAAHCYKSRI...  \n",
       "2   Escherichia coli  ARLNRESVIDAALELLNETGIDGLTTRKLAQKLGIEQPTLYWHVKN...  \n",
       "3   Escherichia coli  SDKIIHLTDDSFDTDVLKADGAILVDFWAEWCGPCKMIAPILDEIA...  \n",
       "4       Homo sapiens  GPTGTGESKCPLMVKVLDAVRGSPAINVAVHVFRKAADDTWEPFAS...  "
      ]
     },
     "execution_count": 5,
     "metadata": {},
     "output_type": "execute_result"
    }
   ],
   "source": [
    "print(data_raw.__sizeof__())\n",
    "data_raw.head()"
   ]
  },
  {
   "cell_type": "code",
   "execution_count": 6,
   "metadata": {},
   "outputs": [],
   "source": [
    "xcf.save_raw_data_to_db(data_raw)"
   ]
  },
  {
   "cell_type": "code",
   "execution_count": 13,
   "metadata": {},
   "outputs": [],
   "source": [
    "today = date.today()\n",
    "today = today.isoformat()\n",
    "with open(f'{output_folder}data_raw_{today}.csv', mode = 'x') as out_file:\n",
    "    data_raw.to_csv(out_file)"
   ]
  }
 ],
 "metadata": {
  "kernelspec": {
   "display_name": "Python 3.10.6 ('env': venv)",
   "language": "python",
   "name": "python3"
  },
  "language_info": {
   "codemirror_mode": {
    "name": "ipython",
    "version": 3
   },
   "file_extension": ".py",
   "mimetype": "text/x-python",
   "name": "python",
   "nbconvert_exporter": "python",
   "pygments_lexer": "ipython3",
   "version": "3.10.6"
  },
  "orig_nbformat": 4,
  "vscode": {
   "interpreter": {
    "hash": "a50a966cad87a28e32f75bc0dced036e64feff3efd79912889ecc2f26bfac229"
   }
  }
 },
 "nbformat": 4,
 "nbformat_minor": 2
}
