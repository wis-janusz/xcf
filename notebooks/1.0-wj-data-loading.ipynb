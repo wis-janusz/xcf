{
 "cells": [
  {
   "cell_type": "markdown",
   "metadata": {},
   "source": [
    "This is a notebook used to execute code that searches the PDB, downloads appropriate data and saves them as .csv with timestamp.\n",
    "Requires proper PDB search API and data API queries in .json format.\n",
    "Also requires xcf folder to be added to PYTHONPATH"
   ]
  },
  {
   "cell_type": "code",
   "execution_count": 1,
   "metadata": {},
   "outputs": [],
   "source": [
    "import xcf\n",
    "from datetime import date"
   ]
  },
  {
   "cell_type": "code",
   "execution_count": 2,
   "metadata": {},
   "outputs": [],
   "source": [
    "#Paths to serach and report .jsons, and folder to output .csv edit as required\n",
    "search_json = '../data/external/PDBsearch_monomerproteins_v1.0.json'\n",
    "report_json = '../data/external/PDBreport_v1.0.json'\n",
    "output_folder = '../data/raw/'"
   ]
  },
  {
   "cell_type": "code",
   "execution_count": 3,
   "metadata": {},
   "outputs": [],
   "source": [
    "ids_list = xcf.search_PDB(search_json)"
   ]
  },
  {
   "cell_type": "code",
   "execution_count": 4,
   "metadata": {},
   "outputs": [
    {
     "name": "stdout",
     "output_type": "stream",
     "text": [
      "Download split into 26 batches.\n",
      "Batch 1\n",
      "Batch 2\n",
      "Batch 3\n",
      "Batch 4\n",
      "Batch 5\n",
      "Batch 6\n",
      "Batch 7\n",
      "Batch 8\n",
      "Batch 9\n",
      "Batch 10\n",
      "Batch 11\n",
      "Batch 12\n",
      "Batch 13\n",
      "Batch 14\n",
      "Batch 15\n",
      "Batch 16\n",
      "Batch 17\n",
      "Batch 18\n",
      "Batch 19\n",
      "Batch 20\n",
      "Batch 21\n",
      "Batch 22\n",
      "Batch 23\n",
      "Batch 24\n",
      "Batch 25\n",
      "Batch 26\n"
     ]
    }
   ],
   "source": [
    "data_raw = xcf.report_from_PDB(ids_list, report_json, batch_size=5000)"
   ]
  },
  {
   "cell_type": "code",
   "execution_count": 5,
   "metadata": {},
   "outputs": [
    {
     "name": "stdout",
     "output_type": "stream",
     "text": [
      "95160964\n"
     ]
    },
    {
     "data": {
      "text/html": [
       "<div>\n",
       "<style scoped>\n",
       "    .dataframe tbody tr th:only-of-type {\n",
       "        vertical-align: middle;\n",
       "    }\n",
       "\n",
       "    .dataframe tbody tr th {\n",
       "        vertical-align: top;\n",
       "    }\n",
       "\n",
       "    .dataframe thead th {\n",
       "        text-align: right;\n",
       "    }\n",
       "</style>\n",
       "<table border=\"1\" class=\"dataframe\">\n",
       "  <thead>\n",
       "    <tr style=\"text-align: right;\">\n",
       "      <th></th>\n",
       "      <th>matthews</th>\n",
       "      <th>percent_solvent</th>\n",
       "      <th>rcsb_id</th>\n",
       "      <th>method</th>\n",
       "      <th>pH</th>\n",
       "      <th>conditions</th>\n",
       "      <th>temp</th>\n",
       "      <th>resolution</th>\n",
       "      <th>organism</th>\n",
       "      <th>sequence</th>\n",
       "    </tr>\n",
       "  </thead>\n",
       "  <tbody>\n",
       "    <tr>\n",
       "      <th>0</th>\n",
       "      <td>1.68</td>\n",
       "      <td>27.00</td>\n",
       "      <td>4BOB</td>\n",
       "      <td>None</td>\n",
       "      <td>7.5</td>\n",
       "      <td>28% PEG 3350, pH 7.5</td>\n",
       "      <td>NaN</td>\n",
       "      <td>2.53</td>\n",
       "      <td>Borreliella burgdorferi B31</td>\n",
       "      <td>GAMGDEQSSGEINHTLYDEQSNGELKLKKIEFSKFTVKIKNKDNNS...</td>\n",
       "    </tr>\n",
       "    <tr>\n",
       "      <th>1</th>\n",
       "      <td>2.65</td>\n",
       "      <td>54.00</td>\n",
       "      <td>4BOD</td>\n",
       "      <td>None</td>\n",
       "      <td>7.5</td>\n",
       "      <td>0.1 HEPES PH 7.5, 10% ISOPROPANOL, 20% PEG 6000</td>\n",
       "      <td>NaN</td>\n",
       "      <td>3.15</td>\n",
       "      <td>Borreliella burgdorferi B31</td>\n",
       "      <td>GAMGDGQSNGEAKVKKIEFSEFTVKIKNKNNSNNWADLGDLVVRKE...</td>\n",
       "    </tr>\n",
       "    <tr>\n",
       "      <th>2</th>\n",
       "      <td>2.62</td>\n",
       "      <td>53.00</td>\n",
       "      <td>4BOF</td>\n",
       "      <td>None</td>\n",
       "      <td>5.5</td>\n",
       "      <td>0.1M BIS-TRIS PH 5.5, 20% PEG3350, 0.3M LISO4,...</td>\n",
       "      <td>NaN</td>\n",
       "      <td>2.48</td>\n",
       "      <td>Streptococcus pyogenes</td>\n",
       "      <td>MTAQTPIHVYSEIGKLKKVLLHRPGKEIENLMPDYLERLLFDDIPF...</td>\n",
       "    </tr>\n",
       "    <tr>\n",
       "      <th>3</th>\n",
       "      <td>2.54</td>\n",
       "      <td>51.66</td>\n",
       "      <td>4BOP</td>\n",
       "      <td>None</td>\n",
       "      <td>NaN</td>\n",
       "      <td>10% PEG 4K, 20% GLYCEROL, 0.09M NPS</td>\n",
       "      <td>NaN</td>\n",
       "      <td>2.10</td>\n",
       "      <td>Homo sapiens</td>\n",
       "      <td>DEKLALYLAEVEKQDKYLRQRNKYRFHIIPDGNCLYRAVSKTVYGD...</td>\n",
       "    </tr>\n",
       "    <tr>\n",
       "      <th>4</th>\n",
       "      <td>3.39</td>\n",
       "      <td>63.75</td>\n",
       "      <td>4BP1</td>\n",
       "      <td>None</td>\n",
       "      <td>NaN</td>\n",
       "      <td>27.5% PEG 3350, 0.1 M MES, 0.1 M AMMONIUM SULFATE</td>\n",
       "      <td>NaN</td>\n",
       "      <td>2.17</td>\n",
       "      <td>Plasmodium falciparum 3D7</td>\n",
       "      <td>GSKKWFSEFSIMWPGQAFSLKIKKILYETKSKYQNVLVFESTTYGK...</td>\n",
       "    </tr>\n",
       "  </tbody>\n",
       "</table>\n",
       "</div>"
      ],
      "text/plain": [
       "   matthews  percent_solvent rcsb_id method   pH  \\\n",
       "0      1.68            27.00    4BOB   None  7.5   \n",
       "1      2.65            54.00    4BOD   None  7.5   \n",
       "2      2.62            53.00    4BOF   None  5.5   \n",
       "3      2.54            51.66    4BOP   None  NaN   \n",
       "4      3.39            63.75    4BP1   None  NaN   \n",
       "\n",
       "                                          conditions  temp  resolution  \\\n",
       "0                               28% PEG 3350, pH 7.5   NaN        2.53   \n",
       "1    0.1 HEPES PH 7.5, 10% ISOPROPANOL, 20% PEG 6000   NaN        3.15   \n",
       "2  0.1M BIS-TRIS PH 5.5, 20% PEG3350, 0.3M LISO4,...   NaN        2.48   \n",
       "3                10% PEG 4K, 20% GLYCEROL, 0.09M NPS   NaN        2.10   \n",
       "4  27.5% PEG 3350, 0.1 M MES, 0.1 M AMMONIUM SULFATE   NaN        2.17   \n",
       "\n",
       "                      organism  \\\n",
       "0  Borreliella burgdorferi B31   \n",
       "1  Borreliella burgdorferi B31   \n",
       "2       Streptococcus pyogenes   \n",
       "3                 Homo sapiens   \n",
       "4    Plasmodium falciparum 3D7   \n",
       "\n",
       "                                            sequence  \n",
       "0  GAMGDEQSSGEINHTLYDEQSNGELKLKKIEFSKFTVKIKNKDNNS...  \n",
       "1  GAMGDGQSNGEAKVKKIEFSEFTVKIKNKNNSNNWADLGDLVVRKE...  \n",
       "2  MTAQTPIHVYSEIGKLKKVLLHRPGKEIENLMPDYLERLLFDDIPF...  \n",
       "3  DEKLALYLAEVEKQDKYLRQRNKYRFHIIPDGNCLYRAVSKTVYGD...  \n",
       "4  GSKKWFSEFSIMWPGQAFSLKIKKILYETKSKYQNVLVFESTTYGK...  "
      ]
     },
     "execution_count": 5,
     "metadata": {},
     "output_type": "execute_result"
    }
   ],
   "source": [
    "print(data_raw.__sizeof__())\n",
    "data_raw.head()"
   ]
  },
  {
   "cell_type": "code",
   "execution_count": 6,
   "metadata": {},
   "outputs": [],
   "source": [
    "xcf.save_raw_data_to_db(data_raw)"
   ]
  },
  {
   "cell_type": "code",
   "execution_count": 13,
   "metadata": {},
   "outputs": [],
   "source": [
    "today = date.today()\n",
    "today = today.isoformat()\n",
    "with open(f'{output_folder}data_raw_{today}.csv', mode = 'x') as out_file:\n",
    "    data_raw.to_csv(out_file)"
   ]
  }
 ],
 "metadata": {
  "kernelspec": {
   "display_name": "Python 3.10.6 ('env': venv)",
   "language": "python",
   "name": "python3"
  },
  "language_info": {
   "codemirror_mode": {
    "name": "ipython",
    "version": 3
   },
   "file_extension": ".py",
   "mimetype": "text/x-python",
   "name": "python",
   "nbconvert_exporter": "python",
   "pygments_lexer": "ipython3",
   "version": "3.10.6"
  },
  "orig_nbformat": 4,
  "vscode": {
   "interpreter": {
    "hash": "a50a966cad87a28e32f75bc0dced036e64feff3efd79912889ecc2f26bfac229"
   }
  }
 },
 "nbformat": 4,
 "nbformat_minor": 2
}
